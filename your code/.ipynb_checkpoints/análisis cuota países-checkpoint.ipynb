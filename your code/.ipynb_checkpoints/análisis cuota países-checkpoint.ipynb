{
 "cells": [
  {
   "cell_type": "code",
   "execution_count": 1,
   "id": "c9323a63",
   "metadata": {},
   "outputs": [],
   "source": [
    "import pandas as pd\n",
    "pd.set_option('display.max_columns', None)\n",
    "import numpy as np\n",
    "\n",
    "import pylab as plt\n",
    "import seaborn as sns\n",
    "\n",
    "import warnings\n",
    "warnings.filterwarnings('ignore')\n",
    "\n",
    "import statsmodels.api as sm\n",
    "from statsmodels.formula.api import ols\n",
    "\n",
    "from sklearn.model_selection import train_test_split as tts\n",
    "from sklearn.linear_model import LogisticRegression \n",
    "\n",
    "from sklearn.metrics import mean_squared_error as mse\n",
    "from sklearn.metrics import mean_squared_log_error as msle\n",
    "from sklearn.metrics import mean_absolute_error as mae\n",
    "from sklearn.metrics import r2_score as r2"
   ]
  },
  {
   "cell_type": "code",
   "execution_count": 2,
   "id": "1ae7264c",
   "metadata": {},
   "outputs": [],
   "source": [
    "def analisis(cota = 0.25, paises = 10):\n",
    "    salaries_data = pd.read_csv('salaries_data.csv')\n",
    "    dimension_original_salaries_data = salaries_data.shape\n",
    "    test = pd.read_csv('test.csv')\n",
    "    dimension_original_test = test.shape\n",
    "    \n",
    "    iqr = salaries_data.salary_in_usd.quantile(1-cota) - salaries_data.salary_in_usd.quantile(cota)\n",
    "    cutoff = iqr * 1.5\n",
    "    lower =  salaries_data.salary_in_usd.quantile(cota) - cutoff\n",
    "    upper = salaries_data.salary_in_usd.quantile(1-cota) + cutoff\n",
    "    salaries_data.drop(salaries_data[(salaries_data.salary_in_usd < lower) | (salaries_data.salary_in_usd > upper)].index, axis=0, inplace = True)\n",
    "    \n",
    "    X_salaries_data = salaries_data.drop('salary_in_usd', axis=1)\n",
    "    y_salaries_data = salaries_data.salary_in_usd\n",
    "    \n",
    "    data = pd.concat([X_salaries_data,test])\n",
    "    dimension_original_data = data.shape\n",
    "    \n",
    "    data.work_year = data.work_year.apply(lambda x: str(x))\n",
    "    \n",
    "    new = []\n",
    "    for server in data.job_title:\n",
    "        if 'scien' in server.lower():\n",
    "            new.append('Data Scientist')\n",
    "        elif 'engine' in server.lower():\n",
    "            new.append('Data Engineer')\n",
    "        elif 'analy' in server.lower():\n",
    "            new.append('Data Analyst')\n",
    "        elif 'archi' in server.lower():\n",
    "            new.append('Data Architect')\n",
    "        elif 'machi' in server.lower():\n",
    "            new.append('Machine Learning')\n",
    "        else: new.append('Other')\n",
    "    data.job_title = new\n",
    "    \n",
    "    data = data.drop(['employee_residence'], axis = 1)\n",
    "    \n",
    "    data.remote_ratio.replace({0: 'CERO', 50: 'HALF', 100: 'FULL'}, inplace=True)\n",
    "    \n",
    "    top_paises = pd.DataFrame(data.company_location.value_counts())[:paises]\n",
    "    \n",
    "    data.company_location = ['OTHER' if c not in top_paises.index else c for c in data.company_location]\n",
    "    \n",
    "    data = pd.get_dummies(data)\n",
    "\n",
    "    X_salaries_data = data[:len(X_salaries_data)]\n",
    "    test = data[500:]\n",
    "    \n",
    "    salaries_data = pd.concat([X_salaries_data,y_salaries_data], axis = 1)\n",
    "\n",
    "    X_train, X_test,y_train, y_test = tts(X_salaries_data, y_salaries_data, train_size=0.8, test_size=0.2, random_state=22)\n",
    "    \n",
    "    logreg=LogisticRegression(max_iter=2000)\n",
    "    \n",
    "    logreg.fit(X_train, y_train)\n",
    "    y_pred=logreg.predict(X_test)\n",
    "    y_prob=logreg.predict_proba(X_test)\n",
    "\n",
    "    accuracy = sum(y_pred==y_test)/y_pred.shape[0] * 100\n",
    "    \n",
    "    print('cota:', cota, 'paises:', paises)\n",
    "    print('Acierto: ', round(accuracy, 2), '%')\n",
    "    print('RMSE:', mse(y_test, y_pred, squared=False), '€ [0, inf)')\n",
    "\n",
    "return mse(y_test, y_pred, squared=False)\n",
    "    "
   ]
  },
  {
   "cell_type": "code",
   "execution_count": 3,
   "id": "4037dbb4",
   "metadata": {},
   "outputs": [
    {
     "name": "stdout",
     "output_type": "stream",
     "text": [
      "Acierto:  4.04 %\n",
      "RMSE: 46544.54792264323 € [0, inf)\n",
      "MSE: 2166394941.323232 € [0, inf)\n",
      "RMSLE: 0.6678776568610786 € [0, inf)\n",
      "MAE: 38077.52525252525 € [0, inf)\n",
      "R2: 0.30860338080578964 € (-inf, 1]\n"
     ]
    }
   ],
   "source": [
    "analisis()"
   ]
  }
 ],
 "metadata": {
  "kernelspec": {
   "display_name": "Python 3 (ipykernel)",
   "language": "python",
   "name": "python3"
  },
  "language_info": {
   "codemirror_mode": {
    "name": "ipython",
    "version": 3
   },
   "file_extension": ".py",
   "mimetype": "text/x-python",
   "name": "python",
   "nbconvert_exporter": "python",
   "pygments_lexer": "ipython3",
   "version": "3.9.12"
  }
 },
 "nbformat": 4,
 "nbformat_minor": 5
}

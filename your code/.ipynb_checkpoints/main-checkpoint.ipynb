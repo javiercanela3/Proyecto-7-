{
 "cells": [
  {
   "cell_type": "markdown",
   "id": "8b2db3b9",
   "metadata": {},
   "source": [
    "## Predict the salary for Data Sciense Jobs\n",
    "\n",
    "#### Can you predict the salary that you can have in the next months :)?"
   ]
  },
  {
   "cell_type": "code",
   "execution_count": null,
   "id": "5ba2ead3",
   "metadata": {},
   "outputs": [],
   "source": []
  }
 ],
 "metadata": {
  "kernelspec": {
   "display_name": "Python 3 (ipykernel)",
   "language": "python",
   "name": "python3"
  },
  "language_info": {
   "codemirror_mode": {
    "name": "ipython",
    "version": 3
   },
   "file_extension": ".py",
   "mimetype": "text/x-python",
   "name": "python",
   "nbconvert_exporter": "python",
   "pygments_lexer": "ipython3",
   "version": "3.9.12"
  }
 },
 "nbformat": 4,
 "nbformat_minor": 5
}

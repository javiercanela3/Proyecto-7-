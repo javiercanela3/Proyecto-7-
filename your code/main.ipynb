{
 "cells": [
  {
   "cell_type": "markdown",
   "id": "8b2db3b9",
   "metadata": {},
   "source": [
    "## Predict the salary for Data Sciense Jobs\n",
    "\n",
    "#### Can you predict the salary that you can have in the next months :)?"
   ]
  },
  {
   "cell_type": "markdown",
   "id": "5458a5d1",
   "metadata": {},
   "source": [
    "Salary_datas.csv\n",
    "\n",
    "1- EDA\n",
    "\n",
    "2- Train-test-split\n",
    "\n",
    "3- Entrenar, predecir, evaluar\n",
    "\n",
    "4- Cuando esteis contentos -> Entrenar con todo\n",
    "\n",
    "\n",
    "Test.csv\n",
    "\n",
    "1- Predeciraguera y_pred\n",
    "\n",
    "*detalle:\n",
    "Todas las transformacionesen salary.csv se haran tambien en test.csv"
   ]
  },
  {
   "cell_type": "code",
   "execution_count": 1,
   "id": "df0fafc3",
   "metadata": {},
   "outputs": [
    {
     "data": {
      "text/plain": [
       "\"y_pred = modelo.predict(test)\\ndf=pd.DataFrame()\\ndf['id']=[i for i in range(len(y_pred))]\\ndf['prediccion']=y_pred\\ndf.to_csv('sample.csv', index=False)\""
      ]
     },
     "execution_count": 1,
     "metadata": {},
     "output_type": "execute_result"
    }
   ],
   "source": [
    "'''y_pred = modelo.predict(test)\n",
    "df=pd.DataFrame()\n",
    "df['id']=[i for i in range(len(y_pred))]\n",
    "df['prediccion']=y_pred\n",
    "df.to_csv('sample.csv', index=False)'''"
   ]
  },
  {
   "cell_type": "code",
   "execution_count": 2,
   "id": "80bd6840",
   "metadata": {},
   "outputs": [],
   "source": [
    "import pandas as pd\n",
    "pd.set_option('display.max_columns', None)\n",
    "import numpy as np\n",
    "\n",
    "import pylab as plt\n",
    "import seaborn as sns\n",
    "\n",
    "import warnings\n",
    "warnings.filterwarnings('ignore')\n",
    "\n",
    "import statsmodels.api as sm\n",
    "from statsmodels.formula.api import ols\n",
    "\n",
    "from statistics import mean\n",
    "\n",
    "from sklearn.metrics import mean_squared_error as mse\n",
    "from sklearn.metrics import mean_squared_log_error as msle\n",
    "from sklearn.metrics import mean_absolute_error as mae\n",
    "from sklearn.metrics import r2_score as r2\n",
    "\n",
    "from sklearn.model_selection import train_test_split as tts\n",
    "\n",
    "from sklearn.linear_model import LogisticRegression\n",
    "from sklearn.linear_model import LinearRegression\n",
    "from sklearn.linear_model import Ridge\n",
    "from sklearn.linear_model import RidgeCV\n",
    "from sklearn.linear_model import Lasso\n",
    "from sklearn.linear_model import LassoLars\n",
    "from sklearn.linear_model import BayesianRidge\n",
    "\n"
   ]
  },
  {
   "cell_type": "code",
   "execution_count": 3,
   "id": "9f977afa",
   "metadata": {
    "scrolled": true
   },
   "outputs": [
    {
     "data": {
      "text/html": [
       "<div>\n",
       "<style scoped>\n",
       "    .dataframe tbody tr th:only-of-type {\n",
       "        vertical-align: middle;\n",
       "    }\n",
       "\n",
       "    .dataframe tbody tr th {\n",
       "        vertical-align: top;\n",
       "    }\n",
       "\n",
       "    .dataframe thead th {\n",
       "        text-align: right;\n",
       "    }\n",
       "</style>\n",
       "<table border=\"1\" class=\"dataframe\">\n",
       "  <thead>\n",
       "    <tr style=\"text-align: right;\">\n",
       "      <th></th>\n",
       "      <th>work_year</th>\n",
       "      <th>experience_level</th>\n",
       "      <th>employment_type</th>\n",
       "      <th>job_title</th>\n",
       "      <th>salary_in_usd</th>\n",
       "      <th>employee_residence</th>\n",
       "      <th>remote_ratio</th>\n",
       "      <th>company_location</th>\n",
       "      <th>company_size</th>\n",
       "    </tr>\n",
       "  </thead>\n",
       "  <tbody>\n",
       "    <tr>\n",
       "      <th>0</th>\n",
       "      <td>2022</td>\n",
       "      <td>SE</td>\n",
       "      <td>FT</td>\n",
       "      <td>Data Engineer</td>\n",
       "      <td>140250</td>\n",
       "      <td>US</td>\n",
       "      <td>100</td>\n",
       "      <td>US</td>\n",
       "      <td>M</td>\n",
       "    </tr>\n",
       "    <tr>\n",
       "      <th>1</th>\n",
       "      <td>2022</td>\n",
       "      <td>SE</td>\n",
       "      <td>FT</td>\n",
       "      <td>Data Engineer</td>\n",
       "      <td>135000</td>\n",
       "      <td>US</td>\n",
       "      <td>100</td>\n",
       "      <td>US</td>\n",
       "      <td>M</td>\n",
       "    </tr>\n",
       "    <tr>\n",
       "      <th>2</th>\n",
       "      <td>2021</td>\n",
       "      <td>MI</td>\n",
       "      <td>FT</td>\n",
       "      <td>BI Data Analyst</td>\n",
       "      <td>100000</td>\n",
       "      <td>US</td>\n",
       "      <td>100</td>\n",
       "      <td>US</td>\n",
       "      <td>M</td>\n",
       "    </tr>\n",
       "    <tr>\n",
       "      <th>3</th>\n",
       "      <td>2021</td>\n",
       "      <td>MI</td>\n",
       "      <td>CT</td>\n",
       "      <td>ML Engineer</td>\n",
       "      <td>270000</td>\n",
       "      <td>US</td>\n",
       "      <td>100</td>\n",
       "      <td>US</td>\n",
       "      <td>L</td>\n",
       "    </tr>\n",
       "    <tr>\n",
       "      <th>4</th>\n",
       "      <td>2021</td>\n",
       "      <td>MI</td>\n",
       "      <td>FT</td>\n",
       "      <td>Data Engineer</td>\n",
       "      <td>26005</td>\n",
       "      <td>RO</td>\n",
       "      <td>0</td>\n",
       "      <td>US</td>\n",
       "      <td>L</td>\n",
       "    </tr>\n",
       "  </tbody>\n",
       "</table>\n",
       "</div>"
      ],
      "text/plain": [
       "   work_year experience_level employment_type        job_title  salary_in_usd  \\\n",
       "0       2022               SE              FT    Data Engineer         140250   \n",
       "1       2022               SE              FT    Data Engineer         135000   \n",
       "2       2021               MI              FT  BI Data Analyst         100000   \n",
       "3       2021               MI              CT      ML Engineer         270000   \n",
       "4       2021               MI              FT    Data Engineer          26005   \n",
       "\n",
       "  employee_residence  remote_ratio company_location company_size  \n",
       "0                 US           100               US            M  \n",
       "1                 US           100               US            M  \n",
       "2                 US           100               US            M  \n",
       "3                 US           100               US            L  \n",
       "4                 RO             0               US            L  "
      ]
     },
     "execution_count": 3,
     "metadata": {},
     "output_type": "execute_result"
    }
   ],
   "source": [
    "salaries_data = pd.read_csv('salaries_data.csv')\n",
    "salaries_data.head()"
   ]
  },
  {
   "cell_type": "code",
   "execution_count": 4,
   "id": "056c39ee",
   "metadata": {},
   "outputs": [
    {
     "name": "stdout",
     "output_type": "stream",
     "text": [
      "dimension actual salaries: (500, 9) \n",
      "dimension original salaries: (500, 9)\n"
     ]
    }
   ],
   "source": [
    "dimension_original_salaries_data = salaries_data.shape\n",
    "print('dimension actual salaries:', salaries_data.shape, '\\ndimension original salaries:', dimension_original_salaries_data)"
   ]
  },
  {
   "cell_type": "code",
   "execution_count": 5,
   "id": "b721f948",
   "metadata": {},
   "outputs": [
    {
     "data": {
      "text/html": [
       "<div>\n",
       "<style scoped>\n",
       "    .dataframe tbody tr th:only-of-type {\n",
       "        vertical-align: middle;\n",
       "    }\n",
       "\n",
       "    .dataframe tbody tr th {\n",
       "        vertical-align: top;\n",
       "    }\n",
       "\n",
       "    .dataframe thead th {\n",
       "        text-align: right;\n",
       "    }\n",
       "</style>\n",
       "<table border=\"1\" class=\"dataframe\">\n",
       "  <thead>\n",
       "    <tr style=\"text-align: right;\">\n",
       "      <th></th>\n",
       "      <th>work_year</th>\n",
       "      <th>experience_level</th>\n",
       "      <th>employment_type</th>\n",
       "      <th>job_title</th>\n",
       "      <th>employee_residence</th>\n",
       "      <th>remote_ratio</th>\n",
       "      <th>company_location</th>\n",
       "      <th>company_size</th>\n",
       "    </tr>\n",
       "  </thead>\n",
       "  <tbody>\n",
       "    <tr>\n",
       "      <th>0</th>\n",
       "      <td>2020</td>\n",
       "      <td>SE</td>\n",
       "      <td>FT</td>\n",
       "      <td>Machine Learning Scientist</td>\n",
       "      <td>JP</td>\n",
       "      <td>0</td>\n",
       "      <td>JP</td>\n",
       "      <td>S</td>\n",
       "    </tr>\n",
       "    <tr>\n",
       "      <th>1</th>\n",
       "      <td>2020</td>\n",
       "      <td>MI</td>\n",
       "      <td>FT</td>\n",
       "      <td>Lead Data Analyst</td>\n",
       "      <td>US</td>\n",
       "      <td>100</td>\n",
       "      <td>US</td>\n",
       "      <td>L</td>\n",
       "    </tr>\n",
       "    <tr>\n",
       "      <th>2</th>\n",
       "      <td>2020</td>\n",
       "      <td>MI</td>\n",
       "      <td>FT</td>\n",
       "      <td>Data Analyst</td>\n",
       "      <td>US</td>\n",
       "      <td>100</td>\n",
       "      <td>US</td>\n",
       "      <td>L</td>\n",
       "    </tr>\n",
       "    <tr>\n",
       "      <th>3</th>\n",
       "      <td>2020</td>\n",
       "      <td>MI</td>\n",
       "      <td>FT</td>\n",
       "      <td>Machine Learning Engineer</td>\n",
       "      <td>CN</td>\n",
       "      <td>0</td>\n",
       "      <td>CN</td>\n",
       "      <td>M</td>\n",
       "    </tr>\n",
       "    <tr>\n",
       "      <th>4</th>\n",
       "      <td>2020</td>\n",
       "      <td>MI</td>\n",
       "      <td>FT</td>\n",
       "      <td>Product Data Analyst</td>\n",
       "      <td>IN</td>\n",
       "      <td>100</td>\n",
       "      <td>IN</td>\n",
       "      <td>L</td>\n",
       "    </tr>\n",
       "  </tbody>\n",
       "</table>\n",
       "</div>"
      ],
      "text/plain": [
       "   work_year experience_level employment_type                   job_title  \\\n",
       "0       2020               SE              FT  Machine Learning Scientist   \n",
       "1       2020               MI              FT           Lead Data Analyst   \n",
       "2       2020               MI              FT                Data Analyst   \n",
       "3       2020               MI              FT   Machine Learning Engineer   \n",
       "4       2020               MI              FT        Product Data Analyst   \n",
       "\n",
       "  employee_residence  remote_ratio company_location company_size  \n",
       "0                 JP             0               JP            S  \n",
       "1                 US           100               US            L  \n",
       "2                 US           100               US            L  \n",
       "3                 CN             0               CN            M  \n",
       "4                 IN           100               IN            L  "
      ]
     },
     "execution_count": 5,
     "metadata": {},
     "output_type": "execute_result"
    }
   ],
   "source": [
    "test = pd.read_csv('test.csv')\n",
    "test.head()"
   ]
  },
  {
   "cell_type": "code",
   "execution_count": 6,
   "id": "7b2553d2",
   "metadata": {},
   "outputs": [
    {
     "name": "stdout",
     "output_type": "stream",
     "text": [
      "dimension actual salaries: (107, 8) \n",
      "dimension original salaries: (107, 8)\n"
     ]
    }
   ],
   "source": [
    "dimension_original_test = test.shape\n",
    "print('dimension actual salaries:', test.shape, '\\ndimension original salaries:', dimension_original_test)"
   ]
  },
  {
   "cell_type": "code",
   "execution_count": 7,
   "id": "947d1ab5",
   "metadata": {},
   "outputs": [
    {
     "data": {
      "text/plain": [
       "Index(['work_year', 'experience_level', 'employment_type', 'job_title',\n",
       "       'salary_in_usd', 'employee_residence', 'remote_ratio',\n",
       "       'company_location', 'company_size'],\n",
       "      dtype='object')"
      ]
     },
     "execution_count": 7,
     "metadata": {},
     "output_type": "execute_result"
    }
   ],
   "source": [
    "salaries_data.columns"
   ]
  },
  {
   "cell_type": "code",
   "execution_count": 8,
   "id": "20c234cc",
   "metadata": {
    "scrolled": true
   },
   "outputs": [
    {
     "data": {
      "text/plain": [
       "Index(['work_year', 'experience_level', 'employment_type', 'job_title',\n",
       "       'employee_residence', 'remote_ratio', 'company_location',\n",
       "       'company_size'],\n",
       "      dtype='object')"
      ]
     },
     "execution_count": 8,
     "metadata": {},
     "output_type": "execute_result"
    }
   ],
   "source": [
    "test.columns"
   ]
  },
  {
   "cell_type": "code",
   "execution_count": 9,
   "id": "f2366908",
   "metadata": {},
   "outputs": [
    {
     "data": {
      "text/plain": [
       "<AxesSubplot:>"
      ]
     },
     "execution_count": 9,
     "metadata": {},
     "output_type": "execute_result"
    },
    {
     "data": {
      "image/png": "[encoded data removed]",
      "text/plain": [
       "<Figure size 432x288 with 1 Axes>"
      ]
     },
     "metadata": {
      "needs_background": "light"
     },
     "output_type": "display_data"
    }
   ],
   "source": [
    "salaries_data.boxplot()"
   ]
  },
  {
   "cell_type": "markdown",
   "id": "48418325",
   "metadata": {},
   "source": [
    "# SEPARAMOS DE LA COLUMNA DE SALARY Y CONCATENAMOS CON EL TEST"
   ]
  },
  {
   "cell_type": "code",
   "execution_count": 10,
   "id": "d256e816",
   "metadata": {},
   "outputs": [
    {
     "data": {
      "text/plain": [
       "((500, 8), (500,))"
      ]
     },
     "execution_count": 10,
     "metadata": {},
     "output_type": "execute_result"
    }
   ],
   "source": [
    "X_salaries_data = salaries_data.drop('salary_in_usd', axis=1)\n",
    "y_salaries_data = salaries_data.salary_in_usd\n",
    "X_salaries_data.shape, y_salaries_data.shape"
   ]
  },
  {
   "cell_type": "code",
   "execution_count": 11,
   "id": "cf649e4a",
   "metadata": {},
   "outputs": [
    {
     "name": "stdout",
     "output_type": "stream",
     "text": [
      "dimension actual data: (607, 8) \n",
      "dimension original data: (607, 8)\n"
     ]
    }
   ],
   "source": [
    "data = pd.concat([X_salaries_data,test])\n",
    "dimension_original_data = data.shape\n",
    "print('dimension actual data:', data.shape, '\\ndimension original data:', dimension_original_data)"
   ]
  },
  {
   "cell_type": "code",
   "execution_count": 12,
   "id": "f7ef3aed",
   "metadata": {},
   "outputs": [
    {
     "data": {
      "text/html": [
       "<div>\n",
       "<style scoped>\n",
       "    .dataframe tbody tr th:only-of-type {\n",
       "        vertical-align: middle;\n",
       "    }\n",
       "\n",
       "    .dataframe tbody tr th {\n",
       "        vertical-align: top;\n",
       "    }\n",
       "\n",
       "    .dataframe thead th {\n",
       "        text-align: right;\n",
       "    }\n",
       "</style>\n",
       "<table border=\"1\" class=\"dataframe\">\n",
       "  <thead>\n",
       "    <tr style=\"text-align: right;\">\n",
       "      <th></th>\n",
       "      <th>work_year</th>\n",
       "      <th>experience_level</th>\n",
       "      <th>employment_type</th>\n",
       "      <th>job_title</th>\n",
       "      <th>employee_residence</th>\n",
       "      <th>remote_ratio</th>\n",
       "      <th>company_location</th>\n",
       "      <th>company_size</th>\n",
       "    </tr>\n",
       "  </thead>\n",
       "  <tbody>\n",
       "    <tr>\n",
       "      <th>0</th>\n",
       "      <td>2022</td>\n",
       "      <td>SE</td>\n",
       "      <td>FT</td>\n",
       "      <td>Data Engineer</td>\n",
       "      <td>US</td>\n",
       "      <td>100</td>\n",
       "      <td>US</td>\n",
       "      <td>M</td>\n",
       "    </tr>\n",
       "    <tr>\n",
       "      <th>1</th>\n",
       "      <td>2022</td>\n",
       "      <td>SE</td>\n",
       "      <td>FT</td>\n",
       "      <td>Data Engineer</td>\n",
       "      <td>US</td>\n",
       "      <td>100</td>\n",
       "      <td>US</td>\n",
       "      <td>M</td>\n",
       "    </tr>\n",
       "    <tr>\n",
       "      <th>2</th>\n",
       "      <td>2021</td>\n",
       "      <td>MI</td>\n",
       "      <td>FT</td>\n",
       "      <td>BI Data Analyst</td>\n",
       "      <td>US</td>\n",
       "      <td>100</td>\n",
       "      <td>US</td>\n",
       "      <td>M</td>\n",
       "    </tr>\n",
       "    <tr>\n",
       "      <th>3</th>\n",
       "      <td>2021</td>\n",
       "      <td>MI</td>\n",
       "      <td>CT</td>\n",
       "      <td>ML Engineer</td>\n",
       "      <td>US</td>\n",
       "      <td>100</td>\n",
       "      <td>US</td>\n",
       "      <td>L</td>\n",
       "    </tr>\n",
       "    <tr>\n",
       "      <th>4</th>\n",
       "      <td>2021</td>\n",
       "      <td>MI</td>\n",
       "      <td>FT</td>\n",
       "      <td>Data Engineer</td>\n",
       "      <td>RO</td>\n",
       "      <td>0</td>\n",
       "      <td>US</td>\n",
       "      <td>L</td>\n",
       "    </tr>\n",
       "  </tbody>\n",
       "</table>\n",
       "</div>"
      ],
      "text/plain": [
       "   work_year experience_level employment_type        job_title  \\\n",
       "0       2022               SE              FT    Data Engineer   \n",
       "1       2022               SE              FT    Data Engineer   \n",
       "2       2021               MI              FT  BI Data Analyst   \n",
       "3       2021               MI              CT      ML Engineer   \n",
       "4       2021               MI              FT    Data Engineer   \n",
       "\n",
       "  employee_residence  remote_ratio company_location company_size  \n",
       "0                 US           100               US            M  \n",
       "1                 US           100               US            M  \n",
       "2                 US           100               US            M  \n",
       "3                 US           100               US            L  \n",
       "4                 RO             0               US            L  "
      ]
     },
     "execution_count": 12,
     "metadata": {},
     "output_type": "execute_result"
    }
   ],
   "source": [
    "data.head()"
   ]
  },
  {
   "cell_type": "code",
   "execution_count": 13,
   "id": "b80f9960",
   "metadata": {},
   "outputs": [
    {
     "data": {
      "text/html": [
       "<div>\n",
       "<style scoped>\n",
       "    .dataframe tbody tr th:only-of-type {\n",
       "        vertical-align: middle;\n",
       "    }\n",
       "\n",
       "    .dataframe tbody tr th {\n",
       "        vertical-align: top;\n",
       "    }\n",
       "\n",
       "    .dataframe thead th {\n",
       "        text-align: right;\n",
       "    }\n",
       "</style>\n",
       "<table border=\"1\" class=\"dataframe\">\n",
       "  <thead>\n",
       "    <tr style=\"text-align: right;\">\n",
       "      <th></th>\n",
       "      <th>count</th>\n",
       "      <th>unique</th>\n",
       "      <th>top</th>\n",
       "      <th>freq</th>\n",
       "      <th>mean</th>\n",
       "      <th>std</th>\n",
       "      <th>min</th>\n",
       "      <th>25%</th>\n",
       "      <th>50%</th>\n",
       "      <th>75%</th>\n",
       "      <th>max</th>\n",
       "    </tr>\n",
       "  </thead>\n",
       "  <tbody>\n",
       "    <tr>\n",
       "      <th>work_year</th>\n",
       "      <td>607.0</td>\n",
       "      <td>NaN</td>\n",
       "      <td>NaN</td>\n",
       "      <td>NaN</td>\n",
       "      <td>2021.405272</td>\n",
       "      <td>0.692133</td>\n",
       "      <td>2020.0</td>\n",
       "      <td>2021.0</td>\n",
       "      <td>2022.0</td>\n",
       "      <td>2022.0</td>\n",
       "      <td>2022.0</td>\n",
       "    </tr>\n",
       "    <tr>\n",
       "      <th>experience_level</th>\n",
       "      <td>607</td>\n",
       "      <td>4</td>\n",
       "      <td>SE</td>\n",
       "      <td>280</td>\n",
       "      <td>NaN</td>\n",
       "      <td>NaN</td>\n",
       "      <td>NaN</td>\n",
       "      <td>NaN</td>\n",
       "      <td>NaN</td>\n",
       "      <td>NaN</td>\n",
       "      <td>NaN</td>\n",
       "    </tr>\n",
       "    <tr>\n",
       "      <th>employment_type</th>\n",
       "      <td>607</td>\n",
       "      <td>4</td>\n",
       "      <td>FT</td>\n",
       "      <td>588</td>\n",
       "      <td>NaN</td>\n",
       "      <td>NaN</td>\n",
       "      <td>NaN</td>\n",
       "      <td>NaN</td>\n",
       "      <td>NaN</td>\n",
       "      <td>NaN</td>\n",
       "      <td>NaN</td>\n",
       "    </tr>\n",
       "    <tr>\n",
       "      <th>job_title</th>\n",
       "      <td>607</td>\n",
       "      <td>50</td>\n",
       "      <td>Data Scientist</td>\n",
       "      <td>143</td>\n",
       "      <td>NaN</td>\n",
       "      <td>NaN</td>\n",
       "      <td>NaN</td>\n",
       "      <td>NaN</td>\n",
       "      <td>NaN</td>\n",
       "      <td>NaN</td>\n",
       "      <td>NaN</td>\n",
       "    </tr>\n",
       "    <tr>\n",
       "      <th>employee_residence</th>\n",
       "      <td>607</td>\n",
       "      <td>57</td>\n",
       "      <td>US</td>\n",
       "      <td>332</td>\n",
       "      <td>NaN</td>\n",
       "      <td>NaN</td>\n",
       "      <td>NaN</td>\n",
       "      <td>NaN</td>\n",
       "      <td>NaN</td>\n",
       "      <td>NaN</td>\n",
       "      <td>NaN</td>\n",
       "    </tr>\n",
       "    <tr>\n",
       "      <th>remote_ratio</th>\n",
       "      <td>607.0</td>\n",
       "      <td>NaN</td>\n",
       "      <td>NaN</td>\n",
       "      <td>NaN</td>\n",
       "      <td>70.92257</td>\n",
       "      <td>40.70913</td>\n",
       "      <td>0.0</td>\n",
       "      <td>50.0</td>\n",
       "      <td>100.0</td>\n",
       "      <td>100.0</td>\n",
       "      <td>100.0</td>\n",
       "    </tr>\n",
       "    <tr>\n",
       "      <th>company_location</th>\n",
       "      <td>607</td>\n",
       "      <td>50</td>\n",
       "      <td>US</td>\n",
       "      <td>355</td>\n",
       "      <td>NaN</td>\n",
       "      <td>NaN</td>\n",
       "      <td>NaN</td>\n",
       "      <td>NaN</td>\n",
       "      <td>NaN</td>\n",
       "      <td>NaN</td>\n",
       "      <td>NaN</td>\n",
       "    </tr>\n",
       "    <tr>\n",
       "      <th>company_size</th>\n",
       "      <td>607</td>\n",
       "      <td>3</td>\n",
       "      <td>M</td>\n",
       "      <td>326</td>\n",
       "      <td>NaN</td>\n",
       "      <td>NaN</td>\n",
       "      <td>NaN</td>\n",
       "      <td>NaN</td>\n",
       "      <td>NaN</td>\n",
       "      <td>NaN</td>\n",
       "      <td>NaN</td>\n",
       "    </tr>\n",
       "  </tbody>\n",
       "</table>\n",
       "</div>"
      ],
      "text/plain": [
       "                    count unique             top freq         mean       std  \\\n",
       "work_year           607.0    NaN             NaN  NaN  2021.405272  0.692133   \n",
       "experience_level      607      4              SE  280          NaN       NaN   \n",
       "employment_type       607      4              FT  588          NaN       NaN   \n",
       "job_title             607     50  Data Scientist  143          NaN       NaN   \n",
       "employee_residence    607     57              US  332          NaN       NaN   \n",
       "remote_ratio        607.0    NaN             NaN  NaN     70.92257  40.70913   \n",
       "company_location      607     50              US  355          NaN       NaN   \n",
       "company_size          607      3               M  326          NaN       NaN   \n",
       "\n",
       "                       min     25%     50%     75%     max  \n",
       "work_year           2020.0  2021.0  2022.0  2022.0  2022.0  \n",
       "experience_level       NaN     NaN     NaN     NaN     NaN  \n",
       "employment_type        NaN     NaN     NaN     NaN     NaN  \n",
       "job_title              NaN     NaN     NaN     NaN     NaN  \n",
       "employee_residence     NaN     NaN     NaN     NaN     NaN  \n",
       "remote_ratio           0.0    50.0   100.0   100.0   100.0  \n",
       "company_location       NaN     NaN     NaN     NaN     NaN  \n",
       "company_size           NaN     NaN     NaN     NaN     NaN  "
      ]
     },
     "execution_count": 13,
     "metadata": {},
     "output_type": "execute_result"
    }
   ],
   "source": [
    "data.describe(include = 'all').T"
   ]
  },
  {
   "cell_type": "markdown",
   "id": "5888475b",
   "metadata": {},
   "source": [
    "# WORK_YEAR\n",
    "Convertirlo a objeto / 0,1,2 / Normalizarlo"
   ]
  },
  {
   "cell_type": "code",
   "execution_count": 14,
   "id": "0b7108bb",
   "metadata": {},
   "outputs": [
    {
     "data": {
      "text/plain": [
       "2022    318\n",
       "2021    217\n",
       "2020     72\n",
       "Name: work_year, dtype: int64"
      ]
     },
     "execution_count": 14,
     "metadata": {},
     "output_type": "execute_result"
    }
   ],
   "source": [
    "data.work_year.value_counts()\n",
    "#inutil cambiarlo a 0, 1, 2 ? "
   ]
  },
  {
   "cell_type": "code",
   "execution_count": 15,
   "id": "c973dda2",
   "metadata": {},
   "outputs": [],
   "source": [
    "data.work_year = data.work_year.apply(lambda x: str(x))"
   ]
  },
  {
   "cell_type": "markdown",
   "id": "4eab7a52",
   "metadata": {},
   "source": [
    "# EXPERIENCE_LEVEL"
   ]
  },
  {
   "cell_type": "code",
   "execution_count": 16,
   "id": "eaf5f5d7",
   "metadata": {},
   "outputs": [
    {
     "name": "stdout",
     "output_type": "stream",
     "text": [
      "SE: 136341.79423868313\n",
      "MI: 90384.61046511628\n",
      "EN: 59989.56923076923\n",
      "EX: 196078.85\n"
     ]
    }
   ],
   "source": [
    "print('SE:', salaries_data[salaries_data.experience_level == 'SE'].salary_in_usd.mean())\n",
    "print('MI:', salaries_data[salaries_data.experience_level == 'MI'].salary_in_usd.mean())\n",
    "print('EN:', salaries_data[salaries_data.experience_level == 'EN'].salary_in_usd.mean())\n",
    "print('EX:', salaries_data[salaries_data.experience_level == 'EX'].salary_in_usd.mean())"
   ]
  },
  {
   "cell_type": "code",
   "execution_count": 17,
   "id": "e96098a8",
   "metadata": {},
   "outputs": [
    {
     "data": {
      "text/plain": [
       "SE    280\n",
       "MI    213\n",
       "EN     88\n",
       "EX     26\n",
       "Name: experience_level, dtype: int64"
      ]
     },
     "execution_count": 17,
     "metadata": {},
     "output_type": "execute_result"
    }
   ],
   "source": [
    "data.experience_level.value_counts()"
   ]
  },
  {
   "cell_type": "code",
   "execution_count": 18,
   "id": "faa162f9",
   "metadata": {},
   "outputs": [
    {
     "data": {
      "text/html": [
       "<div>\n",
       "<style scoped>\n",
       "    .dataframe tbody tr th:only-of-type {\n",
       "        vertical-align: middle;\n",
       "    }\n",
       "\n",
       "    .dataframe tbody tr th {\n",
       "        vertical-align: top;\n",
       "    }\n",
       "\n",
       "    .dataframe thead th {\n",
       "        text-align: right;\n",
       "    }\n",
       "</style>\n",
       "<table border=\"1\" class=\"dataframe\">\n",
       "  <thead>\n",
       "    <tr style=\"text-align: right;\">\n",
       "      <th></th>\n",
       "      <th>work_year</th>\n",
       "      <th>experience_level</th>\n",
       "      <th>employment_type</th>\n",
       "      <th>job_title</th>\n",
       "      <th>employee_residence</th>\n",
       "      <th>remote_ratio</th>\n",
       "      <th>company_location</th>\n",
       "      <th>company_size</th>\n",
       "    </tr>\n",
       "  </thead>\n",
       "  <tbody>\n",
       "    <tr>\n",
       "      <th>0</th>\n",
       "      <td>2022</td>\n",
       "      <td>2</td>\n",
       "      <td>FT</td>\n",
       "      <td>Data Engineer</td>\n",
       "      <td>US</td>\n",
       "      <td>100</td>\n",
       "      <td>US</td>\n",
       "      <td>M</td>\n",
       "    </tr>\n",
       "    <tr>\n",
       "      <th>1</th>\n",
       "      <td>2022</td>\n",
       "      <td>2</td>\n",
       "      <td>FT</td>\n",
       "      <td>Data Engineer</td>\n",
       "      <td>US</td>\n",
       "      <td>100</td>\n",
       "      <td>US</td>\n",
       "      <td>M</td>\n",
       "    </tr>\n",
       "    <tr>\n",
       "      <th>2</th>\n",
       "      <td>2021</td>\n",
       "      <td>1</td>\n",
       "      <td>FT</td>\n",
       "      <td>BI Data Analyst</td>\n",
       "      <td>US</td>\n",
       "      <td>100</td>\n",
       "      <td>US</td>\n",
       "      <td>M</td>\n",
       "    </tr>\n",
       "    <tr>\n",
       "      <th>3</th>\n",
       "      <td>2021</td>\n",
       "      <td>1</td>\n",
       "      <td>CT</td>\n",
       "      <td>ML Engineer</td>\n",
       "      <td>US</td>\n",
       "      <td>100</td>\n",
       "      <td>US</td>\n",
       "      <td>L</td>\n",
       "    </tr>\n",
       "    <tr>\n",
       "      <th>4</th>\n",
       "      <td>2021</td>\n",
       "      <td>1</td>\n",
       "      <td>FT</td>\n",
       "      <td>Data Engineer</td>\n",
       "      <td>RO</td>\n",
       "      <td>0</td>\n",
       "      <td>US</td>\n",
       "      <td>L</td>\n",
       "    </tr>\n",
       "  </tbody>\n",
       "</table>\n",
       "</div>"
      ],
      "text/plain": [
       "  work_year  experience_level employment_type        job_title  \\\n",
       "0      2022                 2              FT    Data Engineer   \n",
       "1      2022                 2              FT    Data Engineer   \n",
       "2      2021                 1              FT  BI Data Analyst   \n",
       "3      2021                 1              CT      ML Engineer   \n",
       "4      2021                 1              FT    Data Engineer   \n",
       "\n",
       "  employee_residence  remote_ratio company_location company_size  \n",
       "0                 US           100               US            M  \n",
       "1                 US           100               US            M  \n",
       "2                 US           100               US            M  \n",
       "3                 US           100               US            L  \n",
       "4                 RO             0               US            L  "
      ]
     },
     "execution_count": 18,
     "metadata": {},
     "output_type": "execute_result"
    }
   ],
   "source": [
    "data.experience_level.replace({'EN': 0, 'MI': 1, 'SE': 2, 'EX': 3}, inplace=True)\n",
    "data.head()"
   ]
  },
  {
   "cell_type": "markdown",
   "id": "7332ed42",
   "metadata": {},
   "source": [
    "# EMPLOYMENT_TYPE"
   ]
  },
  {
   "cell_type": "code",
   "execution_count": 19,
   "id": "ddaaf057",
   "metadata": {},
   "outputs": [
    {
     "data": {
      "text/plain": [
       "FT    588\n",
       "PT     10\n",
       "CT      5\n",
       "FL      4\n",
       "Name: employment_type, dtype: int64"
      ]
     },
     "execution_count": 19,
     "metadata": {},
     "output_type": "execute_result"
    }
   ],
   "source": [
    "data.employment_type.value_counts()"
   ]
  },
  {
   "cell_type": "markdown",
   "id": "b1d6086b",
   "metadata": {},
   "source": [
    "# JOB_TITLE"
   ]
  },
  {
   "cell_type": "code",
   "execution_count": 20,
   "id": "9f9c4eb6",
   "metadata": {},
   "outputs": [
    {
     "data": {
      "text/plain": [
       "Data Scientist                              143\n",
       "Data Engineer                               132\n",
       "Data Analyst                                 97\n",
       "Machine Learning Engineer                    41\n",
       "Research Scientist                           16\n",
       "Data Science Manager                         12\n",
       "Data Architect                               11\n",
       "Big Data Engineer                             8\n",
       "Machine Learning Scientist                    8\n",
       "Director of Data Science                      7\n",
       "AI Scientist                                  7\n",
       "Data Analytics Manager                        7\n",
       "Principal Data Scientist                      7\n",
       "Data Science Consultant                       7\n",
       "Computer Vision Engineer                      6\n",
       "Lead Data Engineer                            6\n",
       "BI Data Analyst                               6\n",
       "ML Engineer                                   6\n",
       "Data Engineering Manager                      5\n",
       "Business Data Analyst                         5\n",
       "Applied Data Scientist                        5\n",
       "Head of Data                                  5\n",
       "Head of Data Science                          4\n",
       "Applied Machine Learning Scientist            4\n",
       "Analytics Engineer                            4\n",
       "Data Analytics Engineer                       4\n",
       "Machine Learning Infrastructure Engineer      3\n",
       "Lead Data Analyst                             3\n",
       "Data Science Engineer                         3\n",
       "Computer Vision Software Engineer             3\n",
       "Lead Data Scientist                           3\n",
       "Principal Data Engineer                       3\n",
       "Machine Learning Developer                    3\n",
       "Principal Data Analyst                        2\n",
       "ETL Developer                                 2\n",
       "Financial Data Analyst                        2\n",
       "Cloud Data Engineer                           2\n",
       "Product Data Analyst                          2\n",
       "Director of Data Engineering                  2\n",
       "Staff Data Scientist                          1\n",
       "Head of Machine Learning                      1\n",
       "Finance Data Analyst                          1\n",
       "Marketing Data Analyst                        1\n",
       "Data Analytics Lead                           1\n",
       "Big Data Architect                            1\n",
       "Lead Machine Learning Engineer                1\n",
       "Data Specialist                               1\n",
       "3D Computer Vision Researcher                 1\n",
       "Machine Learning Manager                      1\n",
       "NLP Engineer                                  1\n",
       "Name: job_title, dtype: int64"
      ]
     },
     "execution_count": 20,
     "metadata": {},
     "output_type": "execute_result"
    }
   ],
   "source": [
    "data.job_title.value_counts()"
   ]
  },
  {
   "cell_type": "code",
   "execution_count": 21,
   "id": "e39d731d",
   "metadata": {},
   "outputs": [
    {
     "data": {
      "text/plain": [
       "Data Engineer       227\n",
       "Data Scientist      227\n",
       "Data Analyst        127\n",
       "Data Architect       12\n",
       "Other                 9\n",
       "Machine Learning      5\n",
       "Name: job_title, dtype: int64"
      ]
     },
     "execution_count": 21,
     "metadata": {},
     "output_type": "execute_result"
    }
   ],
   "source": [
    "new = []\n",
    "for server in data.job_title:\n",
    "    if 'scien' in server.lower():\n",
    "        new.append('Data Scientist')\n",
    "    elif 'engine' in server.lower():\n",
    "        new.append('Data Engineer')\n",
    "    elif 'analy' in server.lower():\n",
    "        new.append('Data Analyst')\n",
    "    elif 'archi' in server.lower():\n",
    "        new.append('Data Architect')\n",
    "    elif 'machi' in server.lower():\n",
    "        new.append('Machine Learning')\n",
    "    else: new.append('Other')\n",
    "data.job_title = new\n",
    "data.job_title.value_counts()"
   ]
  },
  {
   "cell_type": "code",
   "execution_count": 22,
   "id": "566de292",
   "metadata": {},
   "outputs": [
    {
     "data": {
      "text/html": [
       "<div>\n",
       "<style scoped>\n",
       "    .dataframe tbody tr th:only-of-type {\n",
       "        vertical-align: middle;\n",
       "    }\n",
       "\n",
       "    .dataframe tbody tr th {\n",
       "        vertical-align: top;\n",
       "    }\n",
       "\n",
       "    .dataframe thead th {\n",
       "        text-align: right;\n",
       "    }\n",
       "</style>\n",
       "<table border=\"1\" class=\"dataframe\">\n",
       "  <thead>\n",
       "    <tr style=\"text-align: right;\">\n",
       "      <th></th>\n",
       "      <th>work_year</th>\n",
       "      <th>experience_level</th>\n",
       "      <th>employment_type</th>\n",
       "      <th>job_title</th>\n",
       "      <th>employee_residence</th>\n",
       "      <th>remote_ratio</th>\n",
       "      <th>company_location</th>\n",
       "      <th>company_size</th>\n",
       "    </tr>\n",
       "  </thead>\n",
       "  <tbody>\n",
       "    <tr>\n",
       "      <th>0</th>\n",
       "      <td>2022</td>\n",
       "      <td>2</td>\n",
       "      <td>FT</td>\n",
       "      <td>Data Engineer</td>\n",
       "      <td>US</td>\n",
       "      <td>100</td>\n",
       "      <td>US</td>\n",
       "      <td>M</td>\n",
       "    </tr>\n",
       "    <tr>\n",
       "      <th>1</th>\n",
       "      <td>2022</td>\n",
       "      <td>2</td>\n",
       "      <td>FT</td>\n",
       "      <td>Data Engineer</td>\n",
       "      <td>US</td>\n",
       "      <td>100</td>\n",
       "      <td>US</td>\n",
       "      <td>M</td>\n",
       "    </tr>\n",
       "    <tr>\n",
       "      <th>2</th>\n",
       "      <td>2021</td>\n",
       "      <td>1</td>\n",
       "      <td>FT</td>\n",
       "      <td>Data Analyst</td>\n",
       "      <td>US</td>\n",
       "      <td>100</td>\n",
       "      <td>US</td>\n",
       "      <td>M</td>\n",
       "    </tr>\n",
       "    <tr>\n",
       "      <th>3</th>\n",
       "      <td>2021</td>\n",
       "      <td>1</td>\n",
       "      <td>CT</td>\n",
       "      <td>Data Engineer</td>\n",
       "      <td>US</td>\n",
       "      <td>100</td>\n",
       "      <td>US</td>\n",
       "      <td>L</td>\n",
       "    </tr>\n",
       "    <tr>\n",
       "      <th>4</th>\n",
       "      <td>2021</td>\n",
       "      <td>1</td>\n",
       "      <td>FT</td>\n",
       "      <td>Data Engineer</td>\n",
       "      <td>RO</td>\n",
       "      <td>0</td>\n",
       "      <td>US</td>\n",
       "      <td>L</td>\n",
       "    </tr>\n",
       "  </tbody>\n",
       "</table>\n",
       "</div>"
      ],
      "text/plain": [
       "  work_year  experience_level employment_type      job_title  \\\n",
       "0      2022                 2              FT  Data Engineer   \n",
       "1      2022                 2              FT  Data Engineer   \n",
       "2      2021                 1              FT   Data Analyst   \n",
       "3      2021                 1              CT  Data Engineer   \n",
       "4      2021                 1              FT  Data Engineer   \n",
       "\n",
       "  employee_residence  remote_ratio company_location company_size  \n",
       "0                 US           100               US            M  \n",
       "1                 US           100               US            M  \n",
       "2                 US           100               US            M  \n",
       "3                 US           100               US            L  \n",
       "4                 RO             0               US            L  "
      ]
     },
     "execution_count": 22,
     "metadata": {},
     "output_type": "execute_result"
    }
   ],
   "source": [
    "data.head()"
   ]
  },
  {
   "cell_type": "markdown",
   "id": "ebd80c3b",
   "metadata": {},
   "source": [
    "# EMPLOYEE_RESIDENCE\n",
    "### ¿ELIMINABLE?\n",
    "EL SUELDO NO SUELE VARIAR EN FUNCION DE DONDE VIVES, SINO EN FUNCION DE DONDE ESTA LA EMPRESA"
   ]
  },
  {
   "cell_type": "code",
   "execution_count": 23,
   "id": "9c22fe13",
   "metadata": {},
   "outputs": [
    {
     "name": "stdout",
     "output_type": "stream",
     "text": [
      "distinto: 8.4 %\n",
      "igual: 91.6 %\n"
     ]
    }
   ],
   "source": [
    "distinto=0\n",
    "igual=0\n",
    "for i, e in enumerate(data.employee_residence):\n",
    "    if data.employee_residence.iloc[i] != data.company_location.iloc[i]:\n",
    "        distinto+=1\n",
    "    else: igual +=1\n",
    "print('distinto:', round(distinto*100/(igual+distinto),2), '%')\n",
    "print('igual:', round(igual*100/(igual+distinto),2), '%')"
   ]
  },
  {
   "cell_type": "code",
   "execution_count": 24,
   "id": "eebf1e60",
   "metadata": {},
   "outputs": [],
   "source": [
    "data = data.drop(['employee_residence'], axis = 1)"
   ]
  },
  {
   "cell_type": "code",
   "execution_count": 25,
   "id": "fe3ccec5",
   "metadata": {},
   "outputs": [],
   "source": [
    "#PRACTICAMENTE TODOS LOS TRABAJADORES RESIDEN EN EL LUGAR DE LA COMPAÑIA"
   ]
  },
  {
   "cell_type": "markdown",
   "id": "0b392c44",
   "metadata": {},
   "source": [
    "data.employee_residence.value_counts()"
   ]
  },
  {
   "cell_type": "markdown",
   "id": "fad10242",
   "metadata": {},
   "source": [
    "top_15 = pd.DataFrame(data.employee_residence.value_counts())[:15]\n",
    "top_15.plot.bar()"
   ]
  },
  {
   "cell_type": "markdown",
   "id": "14975955",
   "metadata": {},
   "source": [
    "data.employee_residence = ['OTHER' if c not in top_15.index else c for c in data.employee_residence]\n",
    "pd.DataFrame(data.employee_residence.value_counts()).plot.bar()"
   ]
  },
  {
   "cell_type": "markdown",
   "id": "eceb1a6c",
   "metadata": {},
   "source": [
    "## REMOTE RATIO\n",
    "MEJOR NORMALIZAR?, 0-50-100, 0-1-2, CERO-HALF-FULL"
   ]
  },
  {
   "cell_type": "code",
   "execution_count": 26,
   "id": "6a72630e",
   "metadata": {},
   "outputs": [
    {
     "data": {
      "text/plain": [
       "100    381\n",
       "0      127\n",
       "50      99\n",
       "Name: remote_ratio, dtype: int64"
      ]
     },
     "execution_count": 26,
     "metadata": {},
     "output_type": "execute_result"
    }
   ],
   "source": [
    "data.remote_ratio.value_counts()"
   ]
  },
  {
   "cell_type": "code",
   "execution_count": 27,
   "id": "8424e948",
   "metadata": {
    "scrolled": true
   },
   "outputs": [],
   "source": [
    "data.remote_ratio.replace({0: 'CERO', 50: 'HALF', 100: 'FULL'}, inplace=True)"
   ]
  },
  {
   "cell_type": "markdown",
   "id": "87d976ec",
   "metadata": {},
   "source": [
    "# COMPANY LOCATION"
   ]
  },
  {
   "cell_type": "code",
   "execution_count": 28,
   "id": "167cfbc6",
   "metadata": {},
   "outputs": [
    {
     "data": {
      "text/plain": [
       "50"
      ]
     },
     "execution_count": 28,
     "metadata": {},
     "output_type": "execute_result"
    }
   ],
   "source": [
    "len(data.company_location.value_counts())"
   ]
  },
  {
   "cell_type": "code",
   "execution_count": 29,
   "id": "e34c6998",
   "metadata": {},
   "outputs": [
    {
     "data": {
      "text/plain": [
       "array(['US', 'FR', 'GR', 'LU', 'SI', 'DE', 'IN', 'GB', 'PK', 'MD', 'JP',\n",
       "       'CA', 'AS', 'IE', 'AE', 'MX', 'VN', 'BE', 'KE', 'ES', 'CH', 'CL',\n",
       "       'CN', 'DK', 'TR', 'NZ', 'PL', 'UA', 'AU', 'NG', 'EE', 'CZ', 'AT',\n",
       "       'BR', 'DZ', 'IR', 'NL', 'HU', 'PT', 'HN', 'MT', 'RO', 'SG', 'IT',\n",
       "       'HR', 'IQ', 'IL', 'RU', 'CO', 'MY'], dtype=object)"
      ]
     },
     "execution_count": 29,
     "metadata": {},
     "output_type": "execute_result"
    }
   ],
   "source": [
    "data.company_location.unique()"
   ]
  },
  {
   "cell_type": "code",
   "execution_count": 30,
   "id": "1bf305f5",
   "metadata": {
    "scrolled": true
   },
   "outputs": [
    {
     "data": {
      "text/plain": [
       "US    355\n",
       "GB     47\n",
       "CA     30\n",
       "DE     28\n",
       "IN     24\n",
       "FR     15\n",
       "ES     14\n",
       "GR     11\n",
       "JP      6\n",
       "PT      4\n",
       "AT      4\n",
       "PL      4\n",
       "NL      4\n",
       "PK      3\n",
       "DK      3\n",
       "AU      3\n",
       "BR      3\n",
       "AE      3\n",
       "TR      3\n",
       "LU      3\n",
       "MX      3\n",
       "CH      2\n",
       "IT      2\n",
       "CZ      2\n",
       "RU      2\n",
       "BE      2\n",
       "SI      2\n",
       "NG      2\n",
       "CN      2\n",
       "MT      1\n",
       "HN      1\n",
       "IL      1\n",
       "RO      1\n",
       "SG      1\n",
       "CO      1\n",
       "IQ      1\n",
       "HR      1\n",
       "NZ      1\n",
       "HU      1\n",
       "IR      1\n",
       "DZ      1\n",
       "EE      1\n",
       "UA      1\n",
       "CL      1\n",
       "KE      1\n",
       "VN      1\n",
       "IE      1\n",
       "AS      1\n",
       "MD      1\n",
       "MY      1\n",
       "Name: company_location, dtype: int64"
      ]
     },
     "execution_count": 30,
     "metadata": {},
     "output_type": "execute_result"
    }
   ],
   "source": [
    "data.company_location.value_counts()"
   ]
  },
  {
   "cell_type": "code",
   "execution_count": 31,
   "id": "0e5f780b",
   "metadata": {},
   "outputs": [
    {
     "data": {
      "text/plain": [
       "<AxesSubplot:>"
      ]
     },
     "execution_count": 31,
     "metadata": {},
     "output_type": "execute_result"
    },
    {
     "data": {
      "image/png": "[encoded data removed]",
      "text/plain": [
       "<Figure size 432x288 with 1 Axes>"
      ]
     },
     "metadata": {
      "needs_background": "light"
     },
     "output_type": "display_data"
    }
   ],
   "source": [
    "top_paises = pd.DataFrame(data.company_location.value_counts())[:18]\n",
    "top_paises.plot.bar()"
   ]
  },
  {
   "cell_type": "code",
   "execution_count": 32,
   "id": "032f2fad",
   "metadata": {},
   "outputs": [
    {
     "data": {
      "text/plain": [
       "Index(['US', 'GB', 'CA', 'DE', 'IN', 'FR', 'ES', 'GR', 'JP', 'PT', 'AT', 'PL',\n",
       "       'NL', 'PK', 'DK', 'AU', 'BR', 'AE'],\n",
       "      dtype='object')"
      ]
     },
     "execution_count": 32,
     "metadata": {},
     "output_type": "execute_result"
    }
   ],
   "source": [
    "top_paises.index"
   ]
  },
  {
   "cell_type": "code",
   "execution_count": 33,
   "id": "fc2bb1bb",
   "metadata": {
    "scrolled": true
   },
   "outputs": [
    {
     "data": {
      "text/plain": [
       "<AxesSubplot:>"
      ]
     },
     "execution_count": 33,
     "metadata": {},
     "output_type": "execute_result"
    },
    {
     "data": {
      "image/png": "[encoded data removed]",
      "text/plain": [
       "<Figure size 432x288 with 1 Axes>"
      ]
     },
     "metadata": {
      "needs_background": "light"
     },
     "output_type": "display_data"
    }
   ],
   "source": [
    "data.company_location = ['OTHER' if c not in top_paises.index else c for c in data.company_location]\n",
    "pd.DataFrame(data.company_location.value_counts()).plot.bar()"
   ]
  },
  {
   "cell_type": "code",
   "execution_count": 34,
   "id": "976af317",
   "metadata": {},
   "outputs": [
    {
     "data": {
      "text/html": [
       "<div>\n",
       "<style scoped>\n",
       "    .dataframe tbody tr th:only-of-type {\n",
       "        vertical-align: middle;\n",
       "    }\n",
       "\n",
       "    .dataframe tbody tr th {\n",
       "        vertical-align: top;\n",
       "    }\n",
       "\n",
       "    .dataframe thead th {\n",
       "        text-align: right;\n",
       "    }\n",
       "</style>\n",
       "<table border=\"1\" class=\"dataframe\">\n",
       "  <thead>\n",
       "    <tr style=\"text-align: right;\">\n",
       "      <th></th>\n",
       "      <th>work_year</th>\n",
       "      <th>experience_level</th>\n",
       "      <th>employment_type</th>\n",
       "      <th>job_title</th>\n",
       "      <th>remote_ratio</th>\n",
       "      <th>company_location</th>\n",
       "      <th>company_size</th>\n",
       "      <th>salario_medio_pais</th>\n",
       "    </tr>\n",
       "  </thead>\n",
       "  <tbody>\n",
       "    <tr>\n",
       "      <th>0</th>\n",
       "      <td>2022</td>\n",
       "      <td>2</td>\n",
       "      <td>FT</td>\n",
       "      <td>Data Engineer</td>\n",
       "      <td>FULL</td>\n",
       "      <td>US</td>\n",
       "      <td>M</td>\n",
       "      <td>3600</td>\n",
       "    </tr>\n",
       "    <tr>\n",
       "      <th>1</th>\n",
       "      <td>2022</td>\n",
       "      <td>2</td>\n",
       "      <td>FT</td>\n",
       "      <td>Data Engineer</td>\n",
       "      <td>FULL</td>\n",
       "      <td>US</td>\n",
       "      <td>M</td>\n",
       "      <td>3600</td>\n",
       "    </tr>\n",
       "    <tr>\n",
       "      <th>2</th>\n",
       "      <td>2021</td>\n",
       "      <td>1</td>\n",
       "      <td>FT</td>\n",
       "      <td>Data Analyst</td>\n",
       "      <td>FULL</td>\n",
       "      <td>US</td>\n",
       "      <td>M</td>\n",
       "      <td>3600</td>\n",
       "    </tr>\n",
       "    <tr>\n",
       "      <th>3</th>\n",
       "      <td>2021</td>\n",
       "      <td>1</td>\n",
       "      <td>CT</td>\n",
       "      <td>Data Engineer</td>\n",
       "      <td>FULL</td>\n",
       "      <td>US</td>\n",
       "      <td>L</td>\n",
       "      <td>3600</td>\n",
       "    </tr>\n",
       "    <tr>\n",
       "      <th>4</th>\n",
       "      <td>2021</td>\n",
       "      <td>1</td>\n",
       "      <td>FT</td>\n",
       "      <td>Data Engineer</td>\n",
       "      <td>CERO</td>\n",
       "      <td>US</td>\n",
       "      <td>L</td>\n",
       "      <td>3600</td>\n",
       "    </tr>\n",
       "  </tbody>\n",
       "</table>\n",
       "</div>"
      ],
      "text/plain": [
       "  work_year  experience_level employment_type      job_title remote_ratio  \\\n",
       "0      2022                 2              FT  Data Engineer         FULL   \n",
       "1      2022                 2              FT  Data Engineer         FULL   \n",
       "2      2021                 1              FT   Data Analyst         FULL   \n",
       "3      2021                 1              CT  Data Engineer         FULL   \n",
       "4      2021                 1              FT  Data Engineer         CERO   \n",
       "\n",
       "  company_location company_size  salario_medio_pais  \n",
       "0               US            M                3600  \n",
       "1               US            M                3600  \n",
       "2               US            M                3600  \n",
       "3               US            L                3600  \n",
       "4               US            L                3600  "
      ]
     },
     "execution_count": 34,
     "metadata": {},
     "output_type": "execute_result"
    }
   ],
   "source": [
    "salario_medio_pais = {'US': 3600, 'FR': 3201,'GR': 1407, 'LU': 3400, 'SI': 1990,\n",
    "                        'DE': 3393, 'IN': 1454, 'GB': 2997, 'PK': 747, 'MD': 1162,\n",
    "                        'JP': 2808, 'CA': 3082, 'AS': 2282, 'IE': 3016, 'AE': 4302,\n",
    "                        'MX': 1123, 'VN': 1388, 'BE': 2779, 'KE': 986, 'ES': 2280,\n",
    "                        'CH': 5000, 'CL': 1085, 'CN': 1819, 'DK': 5550, 'TR': 1371,\n",
    "                        'NZ': 3050, 'PL': 1441, 'UA': 1710, 'AU': 3599, 'NG': 455,\n",
    "                        'EE': 2299, 'CZ': 2282, 'AT': 2777, 'BR': 800, 'DZ': 905,\n",
    "                        'IR': 1768, 'NL': 3458, 'HU': 1876, 'PT': 1461, 'HN': 1134,\n",
    "                        'MT': 1914, 'RO': 1751, 'SG': 6550, 'IT': 2143, 'HR': 1827,\n",
    "                        'IQ': 1324, 'IL': 2528, 'RU': 1790, 'CO': 861, 'MY': 2195}\n",
    "\n",
    "salario_medio_pais['OTHER'] = int(round(mean([salario_medio_pais[i] for i in top_paises.index]),0))\n",
    "\n",
    "new = []\n",
    "for i, e  in enumerate(data.work_year):\n",
    "    new.append(salario_medio_pais[data.company_location.iloc[i]])\n",
    "data['salario_medio_pais'] = new\n",
    "data.head()"
   ]
  },
  {
   "cell_type": "markdown",
   "id": "3c5358dd",
   "metadata": {},
   "source": [
    "# COMPANY SIZE"
   ]
  },
  {
   "cell_type": "code",
   "execution_count": 35,
   "id": "093826ed",
   "metadata": {
    "scrolled": true
   },
   "outputs": [
    {
     "data": {
      "text/plain": [
       "M    326\n",
       "L    198\n",
       "S     83\n",
       "Name: company_size, dtype: int64"
      ]
     },
     "execution_count": 35,
     "metadata": {},
     "output_type": "execute_result"
    }
   ],
   "source": [
    "data.company_size.value_counts()"
   ]
  },
  {
   "cell_type": "code",
   "execution_count": 36,
   "id": "acbbb3ae",
   "metadata": {
    "scrolled": true
   },
   "outputs": [
    {
     "data": {
      "text/html": [
       "<div>\n",
       "<style scoped>\n",
       "    .dataframe tbody tr th:only-of-type {\n",
       "        vertical-align: middle;\n",
       "    }\n",
       "\n",
       "    .dataframe tbody tr th {\n",
       "        vertical-align: top;\n",
       "    }\n",
       "\n",
       "    .dataframe thead th {\n",
       "        text-align: right;\n",
       "    }\n",
       "</style>\n",
       "<table border=\"1\" class=\"dataframe\">\n",
       "  <thead>\n",
       "    <tr style=\"text-align: right;\">\n",
       "      <th></th>\n",
       "      <th>work_year</th>\n",
       "      <th>experience_level</th>\n",
       "      <th>employment_type</th>\n",
       "      <th>job_title</th>\n",
       "      <th>remote_ratio</th>\n",
       "      <th>company_location</th>\n",
       "      <th>company_size</th>\n",
       "      <th>salario_medio_pais</th>\n",
       "    </tr>\n",
       "  </thead>\n",
       "  <tbody>\n",
       "    <tr>\n",
       "      <th>0</th>\n",
       "      <td>2022</td>\n",
       "      <td>2</td>\n",
       "      <td>FT</td>\n",
       "      <td>Data Engineer</td>\n",
       "      <td>FULL</td>\n",
       "      <td>US</td>\n",
       "      <td>M</td>\n",
       "      <td>3600</td>\n",
       "    </tr>\n",
       "    <tr>\n",
       "      <th>1</th>\n",
       "      <td>2022</td>\n",
       "      <td>2</td>\n",
       "      <td>FT</td>\n",
       "      <td>Data Engineer</td>\n",
       "      <td>FULL</td>\n",
       "      <td>US</td>\n",
       "      <td>M</td>\n",
       "      <td>3600</td>\n",
       "    </tr>\n",
       "    <tr>\n",
       "      <th>2</th>\n",
       "      <td>2021</td>\n",
       "      <td>1</td>\n",
       "      <td>FT</td>\n",
       "      <td>Data Analyst</td>\n",
       "      <td>FULL</td>\n",
       "      <td>US</td>\n",
       "      <td>M</td>\n",
       "      <td>3600</td>\n",
       "    </tr>\n",
       "    <tr>\n",
       "      <th>3</th>\n",
       "      <td>2021</td>\n",
       "      <td>1</td>\n",
       "      <td>CT</td>\n",
       "      <td>Data Engineer</td>\n",
       "      <td>FULL</td>\n",
       "      <td>US</td>\n",
       "      <td>L</td>\n",
       "      <td>3600</td>\n",
       "    </tr>\n",
       "    <tr>\n",
       "      <th>4</th>\n",
       "      <td>2021</td>\n",
       "      <td>1</td>\n",
       "      <td>FT</td>\n",
       "      <td>Data Engineer</td>\n",
       "      <td>CERO</td>\n",
       "      <td>US</td>\n",
       "      <td>L</td>\n",
       "      <td>3600</td>\n",
       "    </tr>\n",
       "  </tbody>\n",
       "</table>\n",
       "</div>"
      ],
      "text/plain": [
       "  work_year  experience_level employment_type      job_title remote_ratio  \\\n",
       "0      2022                 2              FT  Data Engineer         FULL   \n",
       "1      2022                 2              FT  Data Engineer         FULL   \n",
       "2      2021                 1              FT   Data Analyst         FULL   \n",
       "3      2021                 1              CT  Data Engineer         FULL   \n",
       "4      2021                 1              FT  Data Engineer         CERO   \n",
       "\n",
       "  company_location company_size  salario_medio_pais  \n",
       "0               US            M                3600  \n",
       "1               US            M                3600  \n",
       "2               US            M                3600  \n",
       "3               US            L                3600  \n",
       "4               US            L                3600  "
      ]
     },
     "execution_count": 36,
     "metadata": {},
     "output_type": "execute_result"
    }
   ],
   "source": [
    "data.head()"
   ]
  },
  {
   "cell_type": "code",
   "execution_count": null,
   "id": "b6097bdf",
   "metadata": {},
   "outputs": [],
   "source": []
  },
  {
   "cell_type": "code",
   "execution_count": 37,
   "id": "11cb5029",
   "metadata": {},
   "outputs": [],
   "source": [
    "X_salaries_data = data[:len(X_salaries_data)]\n",
    "test = data[len(X_salaries_data):]\n",
    "salaries_data = pd.concat([X_salaries_data,y_salaries_data], axis = 1)\n",
    "\n"
   ]
  },
  {
   "cell_type": "markdown",
   "id": "148fc88f",
   "metadata": {},
   "source": [
    "## TEST DE TUKEY PARA FILTRAR OUTLIERS de salary por paises"
   ]
  },
  {
   "cell_type": "code",
   "execution_count": 38,
   "id": "024e23f9",
   "metadata": {},
   "outputs": [],
   "source": [
    "def test_tukey(data, column, cota = 0.25):\n",
    "\n",
    "    iqr = data[column].quantile(1-cota) - data[column].quantile(cota)\n",
    "    cutoff = iqr * 1.5\n",
    "    lower =  data[column].quantile(cota) - cutoff\n",
    "    upper = data[column].quantile(1-cota) + cutoff\n",
    "    data.drop(data[(data[column] < lower) | (data[column] > upper)].index, axis=0, inplace = True)\n",
    "    \n",
    "    return data"
   ]
  },
  {
   "cell_type": "code",
   "execution_count": 39,
   "id": "fc7ec7de",
   "metadata": {},
   "outputs": [],
   "source": [
    "for pais in top_paises.index.unique():\n",
    "    test_tukey(salaries_data[salaries_data.company_location == pais], 'salary_in_usd')"
   ]
  },
  {
   "cell_type": "code",
   "execution_count": 40,
   "id": "ed1ea730",
   "metadata": {},
   "outputs": [
    {
     "data": {
      "text/plain": [
       "((500, 8), (500,))"
      ]
     },
     "execution_count": 40,
     "metadata": {},
     "output_type": "execute_result"
    }
   ],
   "source": [
    "X_salaries_data = salaries_data.drop('salary_in_usd', axis=1)\n",
    "y_salaries_data = salaries_data.salary_in_usd\n",
    "X_salaries_data.shape, y_salaries_data.shape"
   ]
  },
  {
   "cell_type": "code",
   "execution_count": 41,
   "id": "39ad1f05",
   "metadata": {},
   "outputs": [],
   "source": [
    "data = pd.concat([X_salaries_data,test])"
   ]
  },
  {
   "cell_type": "markdown",
   "id": "47efd03c",
   "metadata": {},
   "source": [
    "# NORMALIZAR / ETIQUETAR"
   ]
  },
  {
   "cell_type": "code",
   "execution_count": 42,
   "id": "fdcfcea0",
   "metadata": {},
   "outputs": [
    {
     "data": {
      "text/plain": [
       "(607, 40)"
      ]
     },
     "execution_count": 42,
     "metadata": {},
     "output_type": "execute_result"
    }
   ],
   "source": [
    "data = pd.get_dummies(data)\n",
    "data.shape"
   ]
  },
  {
   "cell_type": "code",
   "execution_count": 43,
   "id": "00388e0e",
   "metadata": {},
   "outputs": [
    {
     "data": {
      "text/html": [
       "<div>\n",
       "<style scoped>\n",
       "    .dataframe tbody tr th:only-of-type {\n",
       "        vertical-align: middle;\n",
       "    }\n",
       "\n",
       "    .dataframe tbody tr th {\n",
       "        vertical-align: top;\n",
       "    }\n",
       "\n",
       "    .dataframe thead th {\n",
       "        text-align: right;\n",
       "    }\n",
       "</style>\n",
       "<table border=\"1\" class=\"dataframe\">\n",
       "  <thead>\n",
       "    <tr style=\"text-align: right;\">\n",
       "      <th></th>\n",
       "      <th>experience_level</th>\n",
       "      <th>salario_medio_pais</th>\n",
       "      <th>work_year_2020</th>\n",
       "      <th>work_year_2021</th>\n",
       "      <th>work_year_2022</th>\n",
       "      <th>employment_type_CT</th>\n",
       "      <th>employment_type_FL</th>\n",
       "      <th>employment_type_FT</th>\n",
       "      <th>employment_type_PT</th>\n",
       "      <th>job_title_Data Analyst</th>\n",
       "      <th>job_title_Data Architect</th>\n",
       "      <th>job_title_Data Engineer</th>\n",
       "      <th>job_title_Data Scientist</th>\n",
       "      <th>job_title_Machine Learning</th>\n",
       "      <th>job_title_Other</th>\n",
       "      <th>remote_ratio_CERO</th>\n",
       "      <th>remote_ratio_FULL</th>\n",
       "      <th>remote_ratio_HALF</th>\n",
       "      <th>company_location_AE</th>\n",
       "      <th>company_location_AT</th>\n",
       "      <th>company_location_AU</th>\n",
       "      <th>company_location_BR</th>\n",
       "      <th>company_location_CA</th>\n",
       "      <th>company_location_DE</th>\n",
       "      <th>company_location_DK</th>\n",
       "      <th>company_location_ES</th>\n",
       "      <th>company_location_FR</th>\n",
       "      <th>company_location_GB</th>\n",
       "      <th>company_location_GR</th>\n",
       "      <th>company_location_IN</th>\n",
       "      <th>company_location_JP</th>\n",
       "      <th>company_location_NL</th>\n",
       "      <th>company_location_OTHER</th>\n",
       "      <th>company_location_PK</th>\n",
       "      <th>company_location_PL</th>\n",
       "      <th>company_location_PT</th>\n",
       "      <th>company_location_US</th>\n",
       "      <th>company_size_L</th>\n",
       "      <th>company_size_M</th>\n",
       "      <th>company_size_S</th>\n",
       "    </tr>\n",
       "  </thead>\n",
       "  <tbody>\n",
       "    <tr>\n",
       "      <th>0</th>\n",
       "      <td>2</td>\n",
       "      <td>3600</td>\n",
       "      <td>0</td>\n",
       "      <td>0</td>\n",
       "      <td>1</td>\n",
       "      <td>0</td>\n",
       "      <td>0</td>\n",
       "      <td>1</td>\n",
       "      <td>0</td>\n",
       "      <td>0</td>\n",
       "      <td>0</td>\n",
       "      <td>1</td>\n",
       "      <td>0</td>\n",
       "      <td>0</td>\n",
       "      <td>0</td>\n",
       "      <td>0</td>\n",
       "      <td>1</td>\n",
       "      <td>0</td>\n",
       "      <td>0</td>\n",
       "      <td>0</td>\n",
       "      <td>0</td>\n",
       "      <td>0</td>\n",
       "      <td>0</td>\n",
       "      <td>0</td>\n",
       "      <td>0</td>\n",
       "      <td>0</td>\n",
       "      <td>0</td>\n",
       "      <td>0</td>\n",
       "      <td>0</td>\n",
       "      <td>0</td>\n",
       "      <td>0</td>\n",
       "      <td>0</td>\n",
       "      <td>0</td>\n",
       "      <td>0</td>\n",
       "      <td>0</td>\n",
       "      <td>0</td>\n",
       "      <td>1</td>\n",
       "      <td>0</td>\n",
       "      <td>1</td>\n",
       "      <td>0</td>\n",
       "    </tr>\n",
       "    <tr>\n",
       "      <th>1</th>\n",
       "      <td>2</td>\n",
       "      <td>3600</td>\n",
       "      <td>0</td>\n",
       "      <td>0</td>\n",
       "      <td>1</td>\n",
       "      <td>0</td>\n",
       "      <td>0</td>\n",
       "      <td>1</td>\n",
       "      <td>0</td>\n",
       "      <td>0</td>\n",
       "      <td>0</td>\n",
       "      <td>1</td>\n",
       "      <td>0</td>\n",
       "      <td>0</td>\n",
       "      <td>0</td>\n",
       "      <td>0</td>\n",
       "      <td>1</td>\n",
       "      <td>0</td>\n",
       "      <td>0</td>\n",
       "      <td>0</td>\n",
       "      <td>0</td>\n",
       "      <td>0</td>\n",
       "      <td>0</td>\n",
       "      <td>0</td>\n",
       "      <td>0</td>\n",
       "      <td>0</td>\n",
       "      <td>0</td>\n",
       "      <td>0</td>\n",
       "      <td>0</td>\n",
       "      <td>0</td>\n",
       "      <td>0</td>\n",
       "      <td>0</td>\n",
       "      <td>0</td>\n",
       "      <td>0</td>\n",
       "      <td>0</td>\n",
       "      <td>0</td>\n",
       "      <td>1</td>\n",
       "      <td>0</td>\n",
       "      <td>1</td>\n",
       "      <td>0</td>\n",
       "    </tr>\n",
       "    <tr>\n",
       "      <th>2</th>\n",
       "      <td>1</td>\n",
       "      <td>3600</td>\n",
       "      <td>0</td>\n",
       "      <td>1</td>\n",
       "      <td>0</td>\n",
       "      <td>0</td>\n",
       "      <td>0</td>\n",
       "      <td>1</td>\n",
       "      <td>0</td>\n",
       "      <td>1</td>\n",
       "      <td>0</td>\n",
       "      <td>0</td>\n",
       "      <td>0</td>\n",
       "      <td>0</td>\n",
       "      <td>0</td>\n",
       "      <td>0</td>\n",
       "      <td>1</td>\n",
       "      <td>0</td>\n",
       "      <td>0</td>\n",
       "      <td>0</td>\n",
       "      <td>0</td>\n",
       "      <td>0</td>\n",
       "      <td>0</td>\n",
       "      <td>0</td>\n",
       "      <td>0</td>\n",
       "      <td>0</td>\n",
       "      <td>0</td>\n",
       "      <td>0</td>\n",
       "      <td>0</td>\n",
       "      <td>0</td>\n",
       "      <td>0</td>\n",
       "      <td>0</td>\n",
       "      <td>0</td>\n",
       "      <td>0</td>\n",
       "      <td>0</td>\n",
       "      <td>0</td>\n",
       "      <td>1</td>\n",
       "      <td>0</td>\n",
       "      <td>1</td>\n",
       "      <td>0</td>\n",
       "    </tr>\n",
       "    <tr>\n",
       "      <th>3</th>\n",
       "      <td>1</td>\n",
       "      <td>3600</td>\n",
       "      <td>0</td>\n",
       "      <td>1</td>\n",
       "      <td>0</td>\n",
       "      <td>1</td>\n",
       "      <td>0</td>\n",
       "      <td>0</td>\n",
       "      <td>0</td>\n",
       "      <td>0</td>\n",
       "      <td>0</td>\n",
       "      <td>1</td>\n",
       "      <td>0</td>\n",
       "      <td>0</td>\n",
       "      <td>0</td>\n",
       "      <td>0</td>\n",
       "      <td>1</td>\n",
       "      <td>0</td>\n",
       "      <td>0</td>\n",
       "      <td>0</td>\n",
       "      <td>0</td>\n",
       "      <td>0</td>\n",
       "      <td>0</td>\n",
       "      <td>0</td>\n",
       "      <td>0</td>\n",
       "      <td>0</td>\n",
       "      <td>0</td>\n",
       "      <td>0</td>\n",
       "      <td>0</td>\n",
       "      <td>0</td>\n",
       "      <td>0</td>\n",
       "      <td>0</td>\n",
       "      <td>0</td>\n",
       "      <td>0</td>\n",
       "      <td>0</td>\n",
       "      <td>0</td>\n",
       "      <td>1</td>\n",
       "      <td>1</td>\n",
       "      <td>0</td>\n",
       "      <td>0</td>\n",
       "    </tr>\n",
       "    <tr>\n",
       "      <th>4</th>\n",
       "      <td>1</td>\n",
       "      <td>3600</td>\n",
       "      <td>0</td>\n",
       "      <td>1</td>\n",
       "      <td>0</td>\n",
       "      <td>0</td>\n",
       "      <td>0</td>\n",
       "      <td>1</td>\n",
       "      <td>0</td>\n",
       "      <td>0</td>\n",
       "      <td>0</td>\n",
       "      <td>1</td>\n",
       "      <td>0</td>\n",
       "      <td>0</td>\n",
       "      <td>0</td>\n",
       "      <td>1</td>\n",
       "      <td>0</td>\n",
       "      <td>0</td>\n",
       "      <td>0</td>\n",
       "      <td>0</td>\n",
       "      <td>0</td>\n",
       "      <td>0</td>\n",
       "      <td>0</td>\n",
       "      <td>0</td>\n",
       "      <td>0</td>\n",
       "      <td>0</td>\n",
       "      <td>0</td>\n",
       "      <td>0</td>\n",
       "      <td>0</td>\n",
       "      <td>0</td>\n",
       "      <td>0</td>\n",
       "      <td>0</td>\n",
       "      <td>0</td>\n",
       "      <td>0</td>\n",
       "      <td>0</td>\n",
       "      <td>0</td>\n",
       "      <td>1</td>\n",
       "      <td>1</td>\n",
       "      <td>0</td>\n",
       "      <td>0</td>\n",
       "    </tr>\n",
       "  </tbody>\n",
       "</table>\n",
       "</div>"
      ],
      "text/plain": [
       "   experience_level  salario_medio_pais  work_year_2020  work_year_2021  \\\n",
       "0                 2                3600               0               0   \n",
       "1                 2                3600               0               0   \n",
       "2                 1                3600               0               1   \n",
       "3                 1                3600               0               1   \n",
       "4                 1                3600               0               1   \n",
       "\n",
       "   work_year_2022  employment_type_CT  employment_type_FL  employment_type_FT  \\\n",
       "0               1                   0                   0                   1   \n",
       "1               1                   0                   0                   1   \n",
       "2               0                   0                   0                   1   \n",
       "3               0                   1                   0                   0   \n",
       "4               0                   0                   0                   1   \n",
       "\n",
       "   employment_type_PT  job_title_Data Analyst  job_title_Data Architect  \\\n",
       "0                   0                       0                         0   \n",
       "1                   0                       0                         0   \n",
       "2                   0                       1                         0   \n",
       "3                   0                       0                         0   \n",
       "4                   0                       0                         0   \n",
       "\n",
       "   job_title_Data Engineer  job_title_Data Scientist  \\\n",
       "0                        1                         0   \n",
       "1                        1                         0   \n",
       "2                        0                         0   \n",
       "3                        1                         0   \n",
       "4                        1                         0   \n",
       "\n",
       "   job_title_Machine Learning  job_title_Other  remote_ratio_CERO  \\\n",
       "0                           0                0                  0   \n",
       "1                           0                0                  0   \n",
       "2                           0                0                  0   \n",
       "3                           0                0                  0   \n",
       "4                           0                0                  1   \n",
       "\n",
       "   remote_ratio_FULL  remote_ratio_HALF  company_location_AE  \\\n",
       "0                  1                  0                    0   \n",
       "1                  1                  0                    0   \n",
       "2                  1                  0                    0   \n",
       "3                  1                  0                    0   \n",
       "4                  0                  0                    0   \n",
       "\n",
       "   company_location_AT  company_location_AU  company_location_BR  \\\n",
       "0                    0                    0                    0   \n",
       "1                    0                    0                    0   \n",
       "2                    0                    0                    0   \n",
       "3                    0                    0                    0   \n",
       "4                    0                    0                    0   \n",
       "\n",
       "   company_location_CA  company_location_DE  company_location_DK  \\\n",
       "0                    0                    0                    0   \n",
       "1                    0                    0                    0   \n",
       "2                    0                    0                    0   \n",
       "3                    0                    0                    0   \n",
       "4                    0                    0                    0   \n",
       "\n",
       "   company_location_ES  company_location_FR  company_location_GB  \\\n",
       "0                    0                    0                    0   \n",
       "1                    0                    0                    0   \n",
       "2                    0                    0                    0   \n",
       "3                    0                    0                    0   \n",
       "4                    0                    0                    0   \n",
       "\n",
       "   company_location_GR  company_location_IN  company_location_JP  \\\n",
       "0                    0                    0                    0   \n",
       "1                    0                    0                    0   \n",
       "2                    0                    0                    0   \n",
       "3                    0                    0                    0   \n",
       "4                    0                    0                    0   \n",
       "\n",
       "   company_location_NL  company_location_OTHER  company_location_PK  \\\n",
       "0                    0                       0                    0   \n",
       "1                    0                       0                    0   \n",
       "2                    0                       0                    0   \n",
       "3                    0                       0                    0   \n",
       "4                    0                       0                    0   \n",
       "\n",
       "   company_location_PL  company_location_PT  company_location_US  \\\n",
       "0                    0                    0                    1   \n",
       "1                    0                    0                    1   \n",
       "2                    0                    0                    1   \n",
       "3                    0                    0                    1   \n",
       "4                    0                    0                    1   \n",
       "\n",
       "   company_size_L  company_size_M  company_size_S  \n",
       "0               0               1               0  \n",
       "1               0               1               0  \n",
       "2               0               1               0  \n",
       "3               1               0               0  \n",
       "4               1               0               0  "
      ]
     },
     "execution_count": 43,
     "metadata": {},
     "output_type": "execute_result"
    }
   ],
   "source": [
    "data.head()"
   ]
  },
  {
   "cell_type": "markdown",
   "id": "3b577185",
   "metadata": {},
   "source": [
    "# SEPARAMOS SALARIES_DATA DE TEST"
   ]
  },
  {
   "cell_type": "code",
   "execution_count": 44,
   "id": "b4071e30",
   "metadata": {},
   "outputs": [
    {
     "data": {
      "text/plain": [
       "((500, 8), (107, 8))"
      ]
     },
     "execution_count": 44,
     "metadata": {},
     "output_type": "execute_result"
    }
   ],
   "source": [
    "X_salaries_data.shape , test.shape"
   ]
  },
  {
   "cell_type": "code",
   "execution_count": 45,
   "id": "ec9c0e7c",
   "metadata": {},
   "outputs": [],
   "source": [
    "#data = pd.concat([X_salaries_data,test])\n",
    "X_salaries_data = data[:len(X_salaries_data)]\n",
    "test = data[len(X_salaries_data):]"
   ]
  },
  {
   "cell_type": "code",
   "execution_count": 46,
   "id": "f5f9a376",
   "metadata": {},
   "outputs": [
    {
     "data": {
      "text/plain": [
       "((500, 40), (107, 40))"
      ]
     },
     "execution_count": 46,
     "metadata": {},
     "output_type": "execute_result"
    }
   ],
   "source": [
    "X_salaries_data.shape , test.shape"
   ]
  },
  {
   "cell_type": "code",
   "execution_count": 47,
   "id": "d9946613",
   "metadata": {},
   "outputs": [],
   "source": [
    "salaries_data = pd.concat([X_salaries_data,y_salaries_data], axis = 1)"
   ]
  },
  {
   "cell_type": "code",
   "execution_count": 48,
   "id": "9e03a63d",
   "metadata": {},
   "outputs": [
    {
     "data": {
      "text/plain": [
       "((500, 40), (500,), (107, 40))"
      ]
     },
     "execution_count": 48,
     "metadata": {},
     "output_type": "execute_result"
    }
   ],
   "source": [
    "X_salaries_data.shape, y_salaries_data.shape, test.shape"
   ]
  },
  {
   "cell_type": "markdown",
   "id": "38a93513",
   "metadata": {},
   "source": [
    "# CREAMOS MODELO, ENTRENAMOS Y PREDECIMOS"
   ]
  },
  {
   "cell_type": "code",
   "execution_count": 49,
   "id": "31f04111",
   "metadata": {},
   "outputs": [
    {
     "data": {
      "text/plain": [
       "((500, 40), (500,))"
      ]
     },
     "execution_count": 49,
     "metadata": {},
     "output_type": "execute_result"
    }
   ],
   "source": [
    "X_salaries_data.shape, y_salaries_data.shape"
   ]
  },
  {
   "cell_type": "code",
   "execution_count": 50,
   "id": "8e8df2b7",
   "metadata": {},
   "outputs": [
    {
     "data": {
      "text/plain": [
       "((400, 40), (100, 40), (400,), (100,))"
      ]
     },
     "execution_count": 50,
     "metadata": {},
     "output_type": "execute_result"
    }
   ],
   "source": [
    "#X_train, X_test,y_train, y_test = tts(X_salaries_data, y_salaries_data, train_size=0.8, test_size=0.2)\n",
    "X_train, X_test,y_train, y_test = tts(X_salaries_data, y_salaries_data, train_size=0.8, test_size=0.2, random_state=22)\n",
    "X_train.shape, X_test.shape, y_train.shape, y_test.shape\n",
    "\n",
    "# Your code here:\n"
   ]
  },
  {
   "cell_type": "code",
   "execution_count": 51,
   "id": "38e33122",
   "metadata": {},
   "outputs": [
    {
     "name": "stdout",
     "output_type": "stream",
     "text": [
      "best model: Ridge(alpha=0.5)\n"
     ]
    },
    {
     "data": {
      "text/html": [
       "<div>\n",
       "<style scoped>\n",
       "    .dataframe tbody tr th:only-of-type {\n",
       "        vertical-align: middle;\n",
       "    }\n",
       "\n",
       "    .dataframe tbody tr th {\n",
       "        vertical-align: top;\n",
       "    }\n",
       "\n",
       "    .dataframe thead th {\n",
       "        text-align: right;\n",
       "    }\n",
       "</style>\n",
       "<table border=\"1\" class=\"dataframe\">\n",
       "  <thead>\n",
       "    <tr style=\"text-align: right;\">\n",
       "      <th></th>\n",
       "      <th>Modelo</th>\n",
       "      <th>Acierto exacto (%)</th>\n",
       "      <th>RMSE</th>\n",
       "      <th>MSE</th>\n",
       "      <th>MAE</th>\n",
       "      <th>R2</th>\n",
       "      <th>coef_R2_RMSE</th>\n",
       "    </tr>\n",
       "  </thead>\n",
       "  <tbody>\n",
       "    <tr>\n",
       "      <th>0</th>\n",
       "      <td>LogisticRegression(max_iter=2000)</td>\n",
       "      <td>3.0</td>\n",
       "      <td>52469.814774</td>\n",
       "      <td>2753081462.47</td>\n",
       "      <td>41249.53</td>\n",
       "      <td>0.135248</td>\n",
       "      <td>0.000003</td>\n",
       "    </tr>\n",
       "    <tr>\n",
       "      <th>1</th>\n",
       "      <td>LinearRegression()</td>\n",
       "      <td>0.0</td>\n",
       "      <td>37951.656173</td>\n",
       "      <td>1440328206.289418</td>\n",
       "      <td>29503.144409</td>\n",
       "      <td>0.547588</td>\n",
       "      <td>0.000014</td>\n",
       "    </tr>\n",
       "    <tr>\n",
       "      <th>2</th>\n",
       "      <td>Ridge(alpha=0.5)</td>\n",
       "      <td>0.0</td>\n",
       "      <td>37498.258436</td>\n",
       "      <td>1406119385.725299</td>\n",
       "      <td>29580.822936</td>\n",
       "      <td>0.558333</td>\n",
       "      <td>0.000015</td>\n",
       "    </tr>\n",
       "    <tr>\n",
       "      <th>3</th>\n",
       "      <td>RidgeCV(alphas=array([1.e-06, 1.e-05, 1.e-04, ...</td>\n",
       "      <td>0.0</td>\n",
       "      <td>38068.067718</td>\n",
       "      <td>1449177779.764123</td>\n",
       "      <td>29647.145602</td>\n",
       "      <td>0.544809</td>\n",
       "      <td>0.000014</td>\n",
       "    </tr>\n",
       "    <tr>\n",
       "      <th>4</th>\n",
       "      <td>Lasso(alpha=0.1)</td>\n",
       "      <td>0.0</td>\n",
       "      <td>40194.462258</td>\n",
       "      <td>1615594796.200163</td>\n",
       "      <td>30468.168054</td>\n",
       "      <td>0.492536</td>\n",
       "      <td>0.000012</td>\n",
       "    </tr>\n",
       "    <tr>\n",
       "      <th>5</th>\n",
       "      <td>LassoLars(alpha=0.1, normalize=False)</td>\n",
       "      <td>0.0</td>\n",
       "      <td>38280.201585</td>\n",
       "      <td>1465373833.361146</td>\n",
       "      <td>29735.399412</td>\n",
       "      <td>0.539721</td>\n",
       "      <td>0.000014</td>\n",
       "    </tr>\n",
       "    <tr>\n",
       "      <th>6</th>\n",
       "      <td>BayesianRidge()</td>\n",
       "      <td>0.0</td>\n",
       "      <td>51747.351999</td>\n",
       "      <td>2677788438.896226</td>\n",
       "      <td>42296.785188</td>\n",
       "      <td>0.158898</td>\n",
       "      <td>0.000003</td>\n",
       "    </tr>\n",
       "  </tbody>\n",
       "</table>\n",
       "</div>"
      ],
      "text/plain": [
       "                                              Modelo Acierto exacto (%)  \\\n",
       "0                  LogisticRegression(max_iter=2000)                3.0   \n",
       "1                                 LinearRegression()                0.0   \n",
       "2                                   Ridge(alpha=0.5)                0.0   \n",
       "3  RidgeCV(alphas=array([1.e-06, 1.e-05, 1.e-04, ...                0.0   \n",
       "4                                   Lasso(alpha=0.1)                0.0   \n",
       "5              LassoLars(alpha=0.1, normalize=False)                0.0   \n",
       "6                                    BayesianRidge()                0.0   \n",
       "\n",
       "           RMSE                MSE           MAE        R2  coef_R2_RMSE  \n",
       "0  52469.814774      2753081462.47      41249.53  0.135248      0.000003  \n",
       "1  37951.656173  1440328206.289418  29503.144409  0.547588      0.000014  \n",
       "2  37498.258436  1406119385.725299  29580.822936  0.558333      0.000015  \n",
       "3  38068.067718  1449177779.764123  29647.145602  0.544809      0.000014  \n",
       "4  40194.462258  1615594796.200163  30468.168054  0.492536      0.000012  \n",
       "5  38280.201585  1465373833.361146  29735.399412  0.539721      0.000014  \n",
       "6  51747.351999  2677788438.896226  42296.785188  0.158898      0.000003  "
      ]
     },
     "execution_count": 51,
     "metadata": {},
     "output_type": "execute_result"
    }
   ],
   "source": [
    "modelos = [LogisticRegression(max_iter=2000)\n",
    "           , LinearRegression()\n",
    "           , Ridge(alpha=.5)\n",
    "           , RidgeCV(alphas=np.logspace(-6, 6, 13))\n",
    "           , Lasso(alpha=0.1)\n",
    "           , LassoLars(alpha=.1, normalize=False)\n",
    "           , BayesianRidge()\n",
    "          ]\n",
    "\n",
    "errores = pd.DataFrame(columns = ['Modelo', 'Acierto exacto (%)', 'RMSE', 'MSE', 'MAE', 'R2'])\n",
    "for i in modelos:\n",
    "    reg = i\n",
    "    reg.fit(X_train, y_train)\n",
    "    y_pred=reg.predict(X_test)\n",
    "    #y_prob=reg.predict_proba(X_test)\n",
    "\n",
    "    accuracy = sum(y_pred==y_test)/y_pred.shape[0] * 100\n",
    "    \n",
    "    errores = errores.append({'Modelo': i\n",
    "                              , 'Acierto exacto (%)': round(accuracy, 2)\n",
    "                              , 'RMSE': mse(y_test, y_pred, squared=False)\n",
    "                              , 'MSE': mse(y_test, y_pred)\n",
    "                              , 'MAE': mae(y_test, y_pred)\n",
    "                              , 'R2': r2(y_test, y_pred)\n",
    "                             }, ignore_index=True)\n",
    "\n",
    "coef_R2_RMSE = []\n",
    "maximo = 0\n",
    "best = None\n",
    "for i, e in enumerate(errores.RMSE):\n",
    "    coef = errores.R2.iloc[i] / e\n",
    "    coef_R2_RMSE.append(coef)\n",
    "    if coef >= maximo: \n",
    "        best = errores.Modelo.iloc[i]\n",
    "        maximo = coef\n",
    "print('best model:', best)\n",
    "\n",
    "reg = best\n",
    "reg.fit(X_salaries_data, y_salaries_data)\n",
    "y_pred=reg.predict(test)\n",
    "    \n",
    "errores['coef_R2_RMSE'] = coef_R2_RMSE\n",
    "errores"
   ]
  },
  {
   "cell_type": "code",
   "execution_count": 52,
   "id": "5204473b",
   "metadata": {},
   "outputs": [
    {
     "data": {
      "text/html": [
       "<div>\n",
       "<style scoped>\n",
       "    .dataframe tbody tr th:only-of-type {\n",
       "        vertical-align: middle;\n",
       "    }\n",
       "\n",
       "    .dataframe tbody tr th {\n",
       "        vertical-align: top;\n",
       "    }\n",
       "\n",
       "    .dataframe thead th {\n",
       "        text-align: right;\n",
       "    }\n",
       "</style>\n",
       "<table border=\"1\" class=\"dataframe\">\n",
       "  <thead>\n",
       "    <tr style=\"text-align: right;\">\n",
       "      <th></th>\n",
       "      <th>Modelo</th>\n",
       "      <th>Cota</th>\n",
       "      <th>Num Paises</th>\n",
       "      <th>Acierto exacto (%)</th>\n",
       "      <th>RMSE</th>\n",
       "      <th>MSE</th>\n",
       "      <th>MAE</th>\n",
       "      <th>R2</th>\n",
       "    </tr>\n",
       "  </thead>\n",
       "  <tbody>\n",
       "    <tr>\n",
       "      <th>0</th>\n",
       "      <td>LogisticRegression(max_iter=2000)</td>\n",
       "      <td>0.0</td>\n",
       "      <td>1</td>\n",
       "      <td>2.0</td>\n",
       "      <td>53637.547057</td>\n",
       "      <td>2.876986e+09</td>\n",
       "      <td>42511.280000</td>\n",
       "      <td>0.096329</td>\n",
       "    </tr>\n",
       "    <tr>\n",
       "      <th>1</th>\n",
       "      <td>LinearRegression()</td>\n",
       "      <td>0.0</td>\n",
       "      <td>1</td>\n",
       "      <td>0.0</td>\n",
       "      <td>38205.677382</td>\n",
       "      <td>1.459674e+09</td>\n",
       "      <td>28249.205788</td>\n",
       "      <td>0.541512</td>\n",
       "    </tr>\n",
       "    <tr>\n",
       "      <th>2</th>\n",
       "      <td>Ridge(alpha=0.5)</td>\n",
       "      <td>0.0</td>\n",
       "      <td>1</td>\n",
       "      <td>0.0</td>\n",
       "      <td>37743.099176</td>\n",
       "      <td>1.424542e+09</td>\n",
       "      <td>28143.807608</td>\n",
       "      <td>0.552547</td>\n",
       "    </tr>\n",
       "    <tr>\n",
       "      <th>3</th>\n",
       "      <td>RidgeCV(alphas=array([1.e-06, 1.e-05, 1.e-04, ...</td>\n",
       "      <td>0.0</td>\n",
       "      <td>1</td>\n",
       "      <td>0.0</td>\n",
       "      <td>38007.568442</td>\n",
       "      <td>1.444575e+09</td>\n",
       "      <td>28016.655443</td>\n",
       "      <td>0.546254</td>\n",
       "    </tr>\n",
       "    <tr>\n",
       "      <th>4</th>\n",
       "      <td>Lasso(alpha=0.1)</td>\n",
       "      <td>0.0</td>\n",
       "      <td>1</td>\n",
       "      <td>0.0</td>\n",
       "      <td>38204.823432</td>\n",
       "      <td>1.459609e+09</td>\n",
       "      <td>28248.712817</td>\n",
       "      <td>0.541532</td>\n",
       "    </tr>\n",
       "  </tbody>\n",
       "</table>\n",
       "</div>"
      ],
      "text/plain": [
       "                                              Modelo  Cota  Num Paises  \\\n",
       "0                  LogisticRegression(max_iter=2000)   0.0           1   \n",
       "1                                 LinearRegression()   0.0           1   \n",
       "2                                   Ridge(alpha=0.5)   0.0           1   \n",
       "3  RidgeCV(alphas=array([1.e-06, 1.e-05, 1.e-04, ...   0.0           1   \n",
       "4                                   Lasso(alpha=0.1)   0.0           1   \n",
       "\n",
       "   Acierto exacto (%)          RMSE           MSE           MAE        R2  \n",
       "0                 2.0  53637.547057  2.876986e+09  42511.280000  0.096329  \n",
       "1                 0.0  38205.677382  1.459674e+09  28249.205788  0.541512  \n",
       "2                 0.0  37743.099176  1.424542e+09  28143.807608  0.552547  \n",
       "3                 0.0  38007.568442  1.444575e+09  28016.655443  0.546254  \n",
       "4                 0.0  38204.823432  1.459609e+09  28248.712817  0.541532  "
      ]
     },
     "execution_count": 52,
     "metadata": {},
     "output_type": "execute_result"
    }
   ],
   "source": [
    "errores = pd.read_csv('errores.csv')\n",
    "errores.head()"
   ]
  },
  {
   "cell_type": "code",
   "execution_count": 53,
   "id": "8f504fd6",
   "metadata": {},
   "outputs": [
    {
     "data": {
      "text/html": [
       "<div>\n",
       "<style scoped>\n",
       "    .dataframe tbody tr th:only-of-type {\n",
       "        vertical-align: middle;\n",
       "    }\n",
       "\n",
       "    .dataframe tbody tr th {\n",
       "        vertical-align: top;\n",
       "    }\n",
       "\n",
       "    .dataframe thead th {\n",
       "        text-align: right;\n",
       "    }\n",
       "</style>\n",
       "<table border=\"1\" class=\"dataframe\">\n",
       "  <thead>\n",
       "    <tr style=\"text-align: right;\">\n",
       "      <th></th>\n",
       "      <th>Modelo</th>\n",
       "      <th>Cota</th>\n",
       "      <th>Num Paises</th>\n",
       "      <th>Acierto exacto (%)</th>\n",
       "      <th>RMSE</th>\n",
       "      <th>MSE</th>\n",
       "      <th>MAE</th>\n",
       "      <th>R2</th>\n",
       "    </tr>\n",
       "  </thead>\n",
       "  <tbody>\n",
       "    <tr>\n",
       "      <th>16631</th>\n",
       "      <td>BayesianRidge()</td>\n",
       "      <td>0.48</td>\n",
       "      <td>24</td>\n",
       "      <td>0.0</td>\n",
       "      <td>2912.247531</td>\n",
       "      <td>8.481186e+06</td>\n",
       "      <td>2439.626717</td>\n",
       "      <td>-0.162788</td>\n",
       "    </tr>\n",
       "  </tbody>\n",
       "</table>\n",
       "</div>"
      ],
      "text/plain": [
       "                Modelo  Cota  Num Paises  Acierto exacto (%)         RMSE  \\\n",
       "16631  BayesianRidge()  0.48          24                 0.0  2912.247531   \n",
       "\n",
       "                MSE          MAE        R2  \n",
       "16631  8.481186e+06  2439.626717 -0.162788  "
      ]
     },
     "execution_count": 53,
     "metadata": {},
     "output_type": "execute_result"
    }
   ],
   "source": [
    "errores[errores.RMSE == min(errores.RMSE)]"
   ]
  },
  {
   "cell_type": "markdown",
   "id": "32990490",
   "metadata": {},
   "source": [
    "# R2 negativo!"
   ]
  },
  {
   "cell_type": "code",
   "execution_count": 54,
   "id": "94144f81",
   "metadata": {},
   "outputs": [
    {
     "data": {
      "text/html": [
       "<div>\n",
       "<style scoped>\n",
       "    .dataframe tbody tr th:only-of-type {\n",
       "        vertical-align: middle;\n",
       "    }\n",
       "\n",
       "    .dataframe tbody tr th {\n",
       "        vertical-align: top;\n",
       "    }\n",
       "\n",
       "    .dataframe thead th {\n",
       "        text-align: right;\n",
       "    }\n",
       "</style>\n",
       "<table border=\"1\" class=\"dataframe\">\n",
       "  <thead>\n",
       "    <tr style=\"text-align: right;\">\n",
       "      <th></th>\n",
       "      <th>Modelo</th>\n",
       "      <th>Cota</th>\n",
       "      <th>Num Paises</th>\n",
       "      <th>Acierto exacto (%)</th>\n",
       "      <th>RMSE</th>\n",
       "      <th>MSE</th>\n",
       "      <th>MAE</th>\n",
       "      <th>R2</th>\n",
       "    </tr>\n",
       "  </thead>\n",
       "  <tbody>\n",
       "    <tr>\n",
       "      <th>3722</th>\n",
       "      <td>LassoLars(alpha=0.1, normalize=False)</td>\n",
       "      <td>0.10</td>\n",
       "      <td>42</td>\n",
       "      <td>0.00</td>\n",
       "      <td>30023.953533</td>\n",
       "      <td>9.014378e+08</td>\n",
       "      <td>24255.310601</td>\n",
       "      <td>0.702076</td>\n",
       "    </tr>\n",
       "    <tr>\n",
       "      <th>4065</th>\n",
       "      <td>LassoLars(alpha=0.1, normalize=False)</td>\n",
       "      <td>0.11</td>\n",
       "      <td>42</td>\n",
       "      <td>0.00</td>\n",
       "      <td>30023.953533</td>\n",
       "      <td>9.014378e+08</td>\n",
       "      <td>24255.310601</td>\n",
       "      <td>0.702076</td>\n",
       "    </tr>\n",
       "    <tr>\n",
       "      <th>3701</th>\n",
       "      <td>LassoLars(alpha=0.1, normalize=False)</td>\n",
       "      <td>0.10</td>\n",
       "      <td>39</td>\n",
       "      <td>0.00</td>\n",
       "      <td>30139.203896</td>\n",
       "      <td>9.083716e+08</td>\n",
       "      <td>24303.615024</td>\n",
       "      <td>0.699784</td>\n",
       "    </tr>\n",
       "    <tr>\n",
       "      <th>4044</th>\n",
       "      <td>LassoLars(alpha=0.1, normalize=False)</td>\n",
       "      <td>0.11</td>\n",
       "      <td>39</td>\n",
       "      <td>0.00</td>\n",
       "      <td>30139.203896</td>\n",
       "      <td>9.083716e+08</td>\n",
       "      <td>24303.615024</td>\n",
       "      <td>0.699784</td>\n",
       "    </tr>\n",
       "    <tr>\n",
       "      <th>4072</th>\n",
       "      <td>LassoLars(alpha=0.1, normalize=False)</td>\n",
       "      <td>0.11</td>\n",
       "      <td>43</td>\n",
       "      <td>0.00</td>\n",
       "      <td>30216.570848</td>\n",
       "      <td>9.130412e+08</td>\n",
       "      <td>24422.196026</td>\n",
       "      <td>0.698241</td>\n",
       "    </tr>\n",
       "    <tr>\n",
       "      <th>...</th>\n",
       "      <td>...</td>\n",
       "      <td>...</td>\n",
       "      <td>...</td>\n",
       "      <td>...</td>\n",
       "      <td>...</td>\n",
       "      <td>...</td>\n",
       "      <td>...</td>\n",
       "      <td>...</td>\n",
       "    </tr>\n",
       "    <tr>\n",
       "      <th>4830</th>\n",
       "      <td>LogisticRegression(max_iter=2000)</td>\n",
       "      <td>0.14</td>\n",
       "      <td>5</td>\n",
       "      <td>2.02</td>\n",
       "      <td>57097.693511</td>\n",
       "      <td>3.260147e+09</td>\n",
       "      <td>44887.929293</td>\n",
       "      <td>0.011813</td>\n",
       "    </tr>\n",
       "    <tr>\n",
       "      <th>5173</th>\n",
       "      <td>LogisticRegression(max_iter=2000)</td>\n",
       "      <td>0.15</td>\n",
       "      <td>5</td>\n",
       "      <td>2.02</td>\n",
       "      <td>57097.693511</td>\n",
       "      <td>3.260147e+09</td>\n",
       "      <td>44887.929293</td>\n",
       "      <td>0.011813</td>\n",
       "    </tr>\n",
       "    <tr>\n",
       "      <th>5516</th>\n",
       "      <td>LogisticRegression(max_iter=2000)</td>\n",
       "      <td>0.16</td>\n",
       "      <td>5</td>\n",
       "      <td>2.02</td>\n",
       "      <td>57097.693511</td>\n",
       "      <td>3.260147e+09</td>\n",
       "      <td>44887.929293</td>\n",
       "      <td>0.011813</td>\n",
       "    </tr>\n",
       "    <tr>\n",
       "      <th>6202</th>\n",
       "      <td>LogisticRegression(max_iter=2000)</td>\n",
       "      <td>0.18</td>\n",
       "      <td>5</td>\n",
       "      <td>2.02</td>\n",
       "      <td>57097.693511</td>\n",
       "      <td>3.260147e+09</td>\n",
       "      <td>44887.929293</td>\n",
       "      <td>0.011813</td>\n",
       "    </tr>\n",
       "    <tr>\n",
       "      <th>5859</th>\n",
       "      <td>LogisticRegression(max_iter=2000)</td>\n",
       "      <td>0.17</td>\n",
       "      <td>5</td>\n",
       "      <td>2.02</td>\n",
       "      <td>57097.693511</td>\n",
       "      <td>3.260147e+09</td>\n",
       "      <td>44887.929293</td>\n",
       "      <td>0.011813</td>\n",
       "    </tr>\n",
       "  </tbody>\n",
       "</table>\n",
       "<p>10030 rows × 8 columns</p>\n",
       "</div>"
      ],
      "text/plain": [
       "                                     Modelo  Cota  Num Paises  \\\n",
       "3722  LassoLars(alpha=0.1, normalize=False)  0.10          42   \n",
       "4065  LassoLars(alpha=0.1, normalize=False)  0.11          42   \n",
       "3701  LassoLars(alpha=0.1, normalize=False)  0.10          39   \n",
       "4044  LassoLars(alpha=0.1, normalize=False)  0.11          39   \n",
       "4072  LassoLars(alpha=0.1, normalize=False)  0.11          43   \n",
       "...                                     ...   ...         ...   \n",
       "4830      LogisticRegression(max_iter=2000)  0.14           5   \n",
       "5173      LogisticRegression(max_iter=2000)  0.15           5   \n",
       "5516      LogisticRegression(max_iter=2000)  0.16           5   \n",
       "6202      LogisticRegression(max_iter=2000)  0.18           5   \n",
       "5859      LogisticRegression(max_iter=2000)  0.17           5   \n",
       "\n",
       "      Acierto exacto (%)          RMSE           MSE           MAE        R2  \n",
       "3722                0.00  30023.953533  9.014378e+08  24255.310601  0.702076  \n",
       "4065                0.00  30023.953533  9.014378e+08  24255.310601  0.702076  \n",
       "3701                0.00  30139.203896  9.083716e+08  24303.615024  0.699784  \n",
       "4044                0.00  30139.203896  9.083716e+08  24303.615024  0.699784  \n",
       "4072                0.00  30216.570848  9.130412e+08  24422.196026  0.698241  \n",
       "...                  ...           ...           ...           ...       ...  \n",
       "4830                2.02  57097.693511  3.260147e+09  44887.929293  0.011813  \n",
       "5173                2.02  57097.693511  3.260147e+09  44887.929293  0.011813  \n",
       "5516                2.02  57097.693511  3.260147e+09  44887.929293  0.011813  \n",
       "6202                2.02  57097.693511  3.260147e+09  44887.929293  0.011813  \n",
       "5859                2.02  57097.693511  3.260147e+09  44887.929293  0.011813  \n",
       "\n",
       "[10030 rows x 8 columns]"
      ]
     },
     "execution_count": 54,
     "metadata": {},
     "output_type": "execute_result"
    }
   ],
   "source": [
    "errores[errores.R2>0][errores.Cota<0.3].sort_values(by = 'RMSE', ascending = True)"
   ]
  },
  {
   "cell_type": "code",
   "execution_count": 55,
   "id": "a041b233",
   "metadata": {},
   "outputs": [
    {
     "data": {
      "text/plain": [
       "(107,)"
      ]
     },
     "execution_count": 55,
     "metadata": {},
     "output_type": "execute_result"
    }
   ],
   "source": [
    "y_pred.shape"
   ]
  },
  {
   "cell_type": "code",
   "execution_count": 56,
   "id": "491a06dc",
   "metadata": {},
   "outputs": [],
   "source": [
    "reg = LinearRegression()\n",
    "reg.fit(X_salaries_data, y_salaries_data)\n",
    "y_pred=reg.predict(test)"
   ]
  },
  {
   "cell_type": "code",
   "execution_count": 57,
   "id": "6dcce9ec",
   "metadata": {},
   "outputs": [],
   "source": [
    "sample = pd.DataFrame()\n",
    "sample['id'] = [i for i in range(107)]\n",
    "sample['salary_in_usd'] = y_pred\n",
    "sample.to_csv('sample.csv', index=False)"
   ]
  },
  {
   "cell_type": "code",
   "execution_count": 58,
   "id": "225c7771",
   "metadata": {},
   "outputs": [
    {
     "data": {
      "text/plain": [
       "Index(['experience_level', 'salario_medio_pais', 'work_year_2020',\n",
       "       'work_year_2021', 'work_year_2022', 'employment_type_CT',\n",
       "       'employment_type_FL', 'employment_type_FT', 'employment_type_PT',\n",
       "       'job_title_Data Analyst', 'job_title_Data Architect',\n",
       "       'job_title_Data Engineer', 'job_title_Data Scientist',\n",
       "       'job_title_Machine Learning', 'job_title_Other', 'remote_ratio_CERO',\n",
       "       'remote_ratio_FULL', 'remote_ratio_HALF', 'company_location_AE',\n",
       "       'company_location_AT', 'company_location_AU', 'company_location_BR',\n",
       "       'company_location_CA', 'company_location_DE', 'company_location_DK',\n",
       "       'company_location_ES', 'company_location_FR', 'company_location_GB',\n",
       "       'company_location_GR', 'company_location_IN', 'company_location_JP',\n",
       "       'company_location_NL', 'company_location_OTHER', 'company_location_PK',\n",
       "       'company_location_PL', 'company_location_PT', 'company_location_US',\n",
       "       'company_size_L', 'company_size_M', 'company_size_S'],\n",
       "      dtype='object')"
      ]
     },
     "execution_count": 58,
     "metadata": {},
     "output_type": "execute_result"
    }
   ],
   "source": [
    "X_salaries_data.columns"
   ]
  },
  {
   "cell_type": "code",
   "execution_count": 59,
   "id": "670c60f0",
   "metadata": {},
   "outputs": [
    {
     "data": {
      "text/html": [
       "<table class=\"simpletable\">\n",
       "<caption>OLS Regression Results</caption>\n",
       "<tr>\n",
       "  <th>Dep. Variable:</th>      <td>salary_in_usd</td>  <th>  R-squared:         </th> <td>   0.511</td> \n",
       "</tr>\n",
       "<tr>\n",
       "  <th>Model:</th>                   <td>OLS</td>       <th>  Adj. R-squared:    </th> <td>   0.477</td> \n",
       "</tr>\n",
       "<tr>\n",
       "  <th>Method:</th>             <td>Least Squares</td>  <th>  F-statistic:       </th> <td>   14.78</td> \n",
       "</tr>\n",
       "<tr>\n",
       "  <th>Date:</th>             <td>Mon, 26 Sep 2022</td> <th>  Prob (F-statistic):</th> <td>1.82e-53</td> \n",
       "</tr>\n",
       "<tr>\n",
       "  <th>Time:</th>                 <td>17:24:35</td>     <th>  Log-Likelihood:    </th> <td> -6105.3</td> \n",
       "</tr>\n",
       "<tr>\n",
       "  <th>No. Observations:</th>      <td>   500</td>      <th>  AIC:               </th> <td>1.228e+04</td>\n",
       "</tr>\n",
       "<tr>\n",
       "  <th>Df Residuals:</th>          <td>   466</td>      <th>  BIC:               </th> <td>1.242e+04</td>\n",
       "</tr>\n",
       "<tr>\n",
       "  <th>Df Model:</th>              <td>    33</td>      <th>                     </th>     <td> </td>    \n",
       "</tr>\n",
       "<tr>\n",
       "  <th>Covariance Type:</th>      <td>nonrobust</td>    <th>                     </th>     <td> </td>    \n",
       "</tr>\n",
       "</table>\n",
       "<table class=\"simpletable\">\n",
       "<tr>\n",
       "               <td></td>                 <th>coef</th>     <th>std err</th>      <th>t</th>      <th>P>|t|</th>  <th>[0.025</th>    <th>0.975]</th>  \n",
       "</tr>\n",
       "<tr>\n",
       "  <th>const</th>                      <td>-1150.1812</td> <td> 7834.025</td> <td>   -0.147</td> <td> 0.883</td> <td>-1.65e+04</td> <td> 1.42e+04</td>\n",
       "</tr>\n",
       "<tr>\n",
       "  <th>experience_level</th>           <td> 2.769e+04</td> <td> 3444.659</td> <td>    8.040</td> <td> 0.000</td> <td> 2.09e+04</td> <td> 3.45e+04</td>\n",
       "</tr>\n",
       "<tr>\n",
       "  <th>salario_medio_pais</th>         <td>   13.9770</td> <td>    6.302</td> <td>    2.218</td> <td> 0.027</td> <td>    1.594</td> <td>   26.360</td>\n",
       "</tr>\n",
       "<tr>\n",
       "  <th>work_year_2020</th>             <td> 9186.0218</td> <td> 5758.370</td> <td>    1.595</td> <td> 0.111</td> <td>-2129.565</td> <td> 2.05e+04</td>\n",
       "</tr>\n",
       "<tr>\n",
       "  <th>work_year_2021</th>             <td>-7894.4516</td> <td> 4478.084</td> <td>   -1.763</td> <td> 0.079</td> <td>-1.67e+04</td> <td>  905.288</td>\n",
       "</tr>\n",
       "<tr>\n",
       "  <th>work_year_2022</th>             <td>-2441.7514</td> <td> 5441.582</td> <td>   -0.449</td> <td> 0.654</td> <td>-1.31e+04</td> <td> 8251.325</td>\n",
       "</tr>\n",
       "<tr>\n",
       "  <th>employment_type_CT</th>         <td> 7.982e+04</td> <td> 2.12e+04</td> <td>    3.762</td> <td> 0.000</td> <td> 3.81e+04</td> <td> 1.22e+05</td>\n",
       "</tr>\n",
       "<tr>\n",
       "  <th>employment_type_FL</th>         <td>-6.708e+04</td> <td> 2.16e+04</td> <td>   -3.112</td> <td> 0.002</td> <td>-1.09e+05</td> <td>-2.47e+04</td>\n",
       "</tr>\n",
       "<tr>\n",
       "  <th>employment_type_FT</th>         <td> 2030.9681</td> <td> 9859.913</td> <td>    0.206</td> <td> 0.837</td> <td>-1.73e+04</td> <td> 2.14e+04</td>\n",
       "</tr>\n",
       "<tr>\n",
       "  <th>employment_type_PT</th>         <td>-1.592e+04</td> <td> 1.71e+04</td> <td>   -0.931</td> <td> 0.352</td> <td>-4.95e+04</td> <td> 1.77e+04</td>\n",
       "</tr>\n",
       "<tr>\n",
       "  <th>job_title_Data Analyst</th>     <td>-2.612e+04</td> <td> 7410.936</td> <td>   -3.524</td> <td> 0.000</td> <td>-4.07e+04</td> <td>-1.16e+04</td>\n",
       "</tr>\n",
       "<tr>\n",
       "  <th>job_title_Data Architect</th>   <td> 3.167e+04</td> <td> 1.53e+04</td> <td>    2.064</td> <td> 0.040</td> <td> 1522.299</td> <td> 6.18e+04</td>\n",
       "</tr>\n",
       "<tr>\n",
       "  <th>job_title_Data Engineer</th>    <td>-4074.8745</td> <td> 6964.881</td> <td>   -0.585</td> <td> 0.559</td> <td>-1.78e+04</td> <td> 9611.588</td>\n",
       "</tr>\n",
       "<tr>\n",
       "  <th>job_title_Data Scientist</th>   <td> 6738.7186</td> <td> 6854.818</td> <td>    0.983</td> <td> 0.326</td> <td>-6731.463</td> <td> 2.02e+04</td>\n",
       "</tr>\n",
       "<tr>\n",
       "  <th>job_title_Machine Learning</th> <td>-1.981e+04</td> <td> 2.29e+04</td> <td>   -0.864</td> <td> 0.388</td> <td>-6.49e+04</td> <td> 2.52e+04</td>\n",
       "</tr>\n",
       "<tr>\n",
       "  <th>job_title_Other</th>            <td> 1.044e+04</td> <td> 1.66e+04</td> <td>    0.630</td> <td> 0.529</td> <td>-2.22e+04</td> <td>  4.3e+04</td>\n",
       "</tr>\n",
       "<tr>\n",
       "  <th>remote_ratio_CERO</th>          <td>-2828.7274</td> <td> 4959.281</td> <td>   -0.570</td> <td> 0.569</td> <td>-1.26e+04</td> <td> 6916.595</td>\n",
       "</tr>\n",
       "<tr>\n",
       "  <th>remote_ratio_FULL</th>          <td> 3631.2240</td> <td> 4474.768</td> <td>    0.811</td> <td> 0.417</td> <td>-5161.998</td> <td> 1.24e+04</td>\n",
       "</tr>\n",
       "<tr>\n",
       "  <th>remote_ratio_HALF</th>          <td>-1952.6778</td> <td> 5617.355</td> <td>   -0.348</td> <td> 0.728</td> <td> -1.3e+04</td> <td> 9085.805</td>\n",
       "</tr>\n",
       "<tr>\n",
       "  <th>company_location_AE</th>        <td>-5739.0431</td> <td> 2.81e+04</td> <td>   -0.204</td> <td> 0.838</td> <td> -6.1e+04</td> <td> 4.96e+04</td>\n",
       "</tr>\n",
       "<tr>\n",
       "  <th>company_location_AT</th>        <td>-1.233e+04</td> <td> 2.86e+04</td> <td>   -0.431</td> <td> 0.667</td> <td>-6.86e+04</td> <td> 4.39e+04</td>\n",
       "</tr>\n",
       "<tr>\n",
       "  <th>company_location_AU</th>        <td> 1.574e+04</td> <td> 3.43e+04</td> <td>    0.458</td> <td> 0.647</td> <td>-5.18e+04</td> <td> 8.32e+04</td>\n",
       "</tr>\n",
       "<tr>\n",
       "  <th>company_location_BR</th>        <td>-3.061e+04</td> <td> 3.23e+04</td> <td>   -0.949</td> <td> 0.343</td> <td> -9.4e+04</td> <td> 3.28e+04</td>\n",
       "</tr>\n",
       "<tr>\n",
       "  <th>company_location_CA</th>        <td> 1.391e+04</td> <td> 1.25e+04</td> <td>    1.117</td> <td> 0.264</td> <td>-1.06e+04</td> <td> 3.84e+04</td>\n",
       "</tr>\n",
       "<tr>\n",
       "  <th>company_location_DE</th>        <td> 3334.9649</td> <td> 1.28e+04</td> <td>    0.260</td> <td> 0.795</td> <td>-2.19e+04</td> <td> 2.86e+04</td>\n",
       "</tr>\n",
       "<tr>\n",
       "  <th>company_location_DK</th>        <td>-3.175e+04</td> <td> 3.62e+04</td> <td>   -0.877</td> <td> 0.381</td> <td>-1.03e+05</td> <td> 3.94e+04</td>\n",
       "</tr>\n",
       "<tr>\n",
       "  <th>company_location_ES</th>        <td>-6035.1012</td> <td>  1.5e+04</td> <td>   -0.403</td> <td> 0.687</td> <td>-3.55e+04</td> <td> 2.34e+04</td>\n",
       "</tr>\n",
       "<tr>\n",
       "  <th>company_location_FR</th>        <td>-3154.0548</td> <td> 1.61e+04</td> <td>   -0.196</td> <td> 0.844</td> <td>-3.47e+04</td> <td> 2.84e+04</td>\n",
       "</tr>\n",
       "<tr>\n",
       "  <th>company_location_GB</th>        <td> 1.021e+04</td> <td> 1.01e+04</td> <td>    1.012</td> <td> 0.312</td> <td>-9622.883</td> <td>    3e+04</td>\n",
       "</tr>\n",
       "<tr>\n",
       "  <th>company_location_GR</th>        <td>  1.11e+04</td> <td> 1.71e+04</td> <td>    0.651</td> <td> 0.516</td> <td>-2.24e+04</td> <td> 4.46e+04</td>\n",
       "</tr>\n",
       "<tr>\n",
       "  <th>company_location_IN</th>        <td>-1.485e+04</td> <td> 1.34e+04</td> <td>   -1.112</td> <td> 0.267</td> <td>-4.11e+04</td> <td> 1.14e+04</td>\n",
       "</tr>\n",
       "<tr>\n",
       "  <th>company_location_JP</th>        <td> 3.992e+04</td> <td> 2.55e+04</td> <td>    1.568</td> <td> 0.118</td> <td>-1.01e+04</td> <td> 8.99e+04</td>\n",
       "</tr>\n",
       "<tr>\n",
       "  <th>company_location_NL</th>        <td>-3.302e+04</td> <td> 2.53e+04</td> <td>   -1.303</td> <td> 0.193</td> <td>-8.28e+04</td> <td> 1.68e+04</td>\n",
       "</tr>\n",
       "<tr>\n",
       "  <th>company_location_OTHER</th>     <td> -1.12e+04</td> <td> 1.03e+04</td> <td>   -1.092</td> <td> 0.276</td> <td>-3.14e+04</td> <td> 8961.016</td>\n",
       "</tr>\n",
       "<tr>\n",
       "  <th>company_location_PK</th>        <td> 1.393e+04</td> <td> 2.76e+04</td> <td>    0.505</td> <td> 0.614</td> <td>-4.02e+04</td> <td> 6.81e+04</td>\n",
       "</tr>\n",
       "<tr>\n",
       "  <th>company_location_PL</th>        <td>-3144.6417</td> <td>  2.8e+04</td> <td>   -0.112</td> <td> 0.911</td> <td>-5.82e+04</td> <td> 5.19e+04</td>\n",
       "</tr>\n",
       "<tr>\n",
       "  <th>company_location_PT</th>        <td>-9911.0669</td> <td> 2.43e+04</td> <td>   -0.408</td> <td> 0.683</td> <td>-5.76e+04</td> <td> 3.78e+04</td>\n",
       "</tr>\n",
       "<tr>\n",
       "  <th>company_location_US</th>        <td> 5.245e+04</td> <td> 9749.718</td> <td>    5.379</td> <td> 0.000</td> <td> 3.33e+04</td> <td> 7.16e+04</td>\n",
       "</tr>\n",
       "<tr>\n",
       "  <th>company_size_L</th>             <td> 1.695e+04</td> <td> 4779.923</td> <td>    3.545</td> <td> 0.000</td> <td> 7554.089</td> <td> 2.63e+04</td>\n",
       "</tr>\n",
       "<tr>\n",
       "  <th>company_size_M</th>             <td>-3820.6204</td> <td> 4602.523</td> <td>   -0.830</td> <td> 0.407</td> <td>-1.29e+04</td> <td> 5223.648</td>\n",
       "</tr>\n",
       "<tr>\n",
       "  <th>company_size_S</th>             <td>-1.428e+04</td> <td> 5900.061</td> <td>   -2.420</td> <td> 0.016</td> <td>-2.59e+04</td> <td>-2682.503</td>\n",
       "</tr>\n",
       "</table>\n",
       "<table class=\"simpletable\">\n",
       "<tr>\n",
       "  <th>Omnibus:</th>       <td>276.478</td> <th>  Durbin-Watson:     </th> <td>   1.961</td>\n",
       "</tr>\n",
       "<tr>\n",
       "  <th>Prob(Omnibus):</th> <td> 0.000</td>  <th>  Jarque-Bera (JB):  </th> <td>3092.895</td>\n",
       "</tr>\n",
       "<tr>\n",
       "  <th>Skew:</th>          <td> 2.172</td>  <th>  Prob(JB):          </th> <td>    0.00</td>\n",
       "</tr>\n",
       "<tr>\n",
       "  <th>Kurtosis:</th>      <td>14.384</td>  <th>  Cond. No.          </th> <td>1.03e+17</td>\n",
       "</tr>\n",
       "</table><br/><br/>Notes:<br/>[1] Standard Errors assume that the covariance matrix of the errors is correctly specified.<br/>[2] The smallest eigenvalue is 5.15e-25. This might indicate that there are<br/>strong multicollinearity problems or that the design matrix is singular."
      ],
      "text/plain": [
       "<class 'statsmodels.iolib.summary.Summary'>\n",
       "\"\"\"\n",
       "                            OLS Regression Results                            \n",
       "==============================================================================\n",
       "Dep. Variable:          salary_in_usd   R-squared:                       0.511\n",
       "Model:                            OLS   Adj. R-squared:                  0.477\n",
       "Method:                 Least Squares   F-statistic:                     14.78\n",
       "Date:                Mon, 26 Sep 2022   Prob (F-statistic):           1.82e-53\n",
       "Time:                        17:24:35   Log-Likelihood:                -6105.3\n",
       "No. Observations:                 500   AIC:                         1.228e+04\n",
       "Df Residuals:                     466   BIC:                         1.242e+04\n",
       "Df Model:                          33                                         \n",
       "Covariance Type:            nonrobust                                         \n",
       "==============================================================================================\n",
       "                                 coef    std err          t      P>|t|      [0.025      0.975]\n",
       "----------------------------------------------------------------------------------------------\n",
       "const                      -1150.1812   7834.025     -0.147      0.883   -1.65e+04    1.42e+04\n",
       "experience_level            2.769e+04   3444.659      8.040      0.000    2.09e+04    3.45e+04\n",
       "salario_medio_pais            13.9770      6.302      2.218      0.027       1.594      26.360\n",
       "work_year_2020              9186.0218   5758.370      1.595      0.111   -2129.565    2.05e+04\n",
       "work_year_2021             -7894.4516   4478.084     -1.763      0.079   -1.67e+04     905.288\n",
       "work_year_2022             -2441.7514   5441.582     -0.449      0.654   -1.31e+04    8251.325\n",
       "employment_type_CT          7.982e+04   2.12e+04      3.762      0.000    3.81e+04    1.22e+05\n",
       "employment_type_FL         -6.708e+04   2.16e+04     -3.112      0.002   -1.09e+05   -2.47e+04\n",
       "employment_type_FT          2030.9681   9859.913      0.206      0.837   -1.73e+04    2.14e+04\n",
       "employment_type_PT         -1.592e+04   1.71e+04     -0.931      0.352   -4.95e+04    1.77e+04\n",
       "job_title_Data Analyst     -2.612e+04   7410.936     -3.524      0.000   -4.07e+04   -1.16e+04\n",
       "job_title_Data Architect    3.167e+04   1.53e+04      2.064      0.040    1522.299    6.18e+04\n",
       "job_title_Data Engineer    -4074.8745   6964.881     -0.585      0.559   -1.78e+04    9611.588\n",
       "job_title_Data Scientist    6738.7186   6854.818      0.983      0.326   -6731.463    2.02e+04\n",
       "job_title_Machine Learning -1.981e+04   2.29e+04     -0.864      0.388   -6.49e+04    2.52e+04\n",
       "job_title_Other             1.044e+04   1.66e+04      0.630      0.529   -2.22e+04     4.3e+04\n",
       "remote_ratio_CERO          -2828.7274   4959.281     -0.570      0.569   -1.26e+04    6916.595\n",
       "remote_ratio_FULL           3631.2240   4474.768      0.811      0.417   -5161.998    1.24e+04\n",
       "remote_ratio_HALF          -1952.6778   5617.355     -0.348      0.728    -1.3e+04    9085.805\n",
       "company_location_AE        -5739.0431   2.81e+04     -0.204      0.838    -6.1e+04    4.96e+04\n",
       "company_location_AT        -1.233e+04   2.86e+04     -0.431      0.667   -6.86e+04    4.39e+04\n",
       "company_location_AU         1.574e+04   3.43e+04      0.458      0.647   -5.18e+04    8.32e+04\n",
       "company_location_BR        -3.061e+04   3.23e+04     -0.949      0.343    -9.4e+04    3.28e+04\n",
       "company_location_CA         1.391e+04   1.25e+04      1.117      0.264   -1.06e+04    3.84e+04\n",
       "company_location_DE         3334.9649   1.28e+04      0.260      0.795   -2.19e+04    2.86e+04\n",
       "company_location_DK        -3.175e+04   3.62e+04     -0.877      0.381   -1.03e+05    3.94e+04\n",
       "company_location_ES        -6035.1012    1.5e+04     -0.403      0.687   -3.55e+04    2.34e+04\n",
       "company_location_FR        -3154.0548   1.61e+04     -0.196      0.844   -3.47e+04    2.84e+04\n",
       "company_location_GB         1.021e+04   1.01e+04      1.012      0.312   -9622.883       3e+04\n",
       "company_location_GR          1.11e+04   1.71e+04      0.651      0.516   -2.24e+04    4.46e+04\n",
       "company_location_IN        -1.485e+04   1.34e+04     -1.112      0.267   -4.11e+04    1.14e+04\n",
       "company_location_JP         3.992e+04   2.55e+04      1.568      0.118   -1.01e+04    8.99e+04\n",
       "company_location_NL        -3.302e+04   2.53e+04     -1.303      0.193   -8.28e+04    1.68e+04\n",
       "company_location_OTHER      -1.12e+04   1.03e+04     -1.092      0.276   -3.14e+04    8961.016\n",
       "company_location_PK         1.393e+04   2.76e+04      0.505      0.614   -4.02e+04    6.81e+04\n",
       "company_location_PL        -3144.6417    2.8e+04     -0.112      0.911   -5.82e+04    5.19e+04\n",
       "company_location_PT        -9911.0669   2.43e+04     -0.408      0.683   -5.76e+04    3.78e+04\n",
       "company_location_US         5.245e+04   9749.718      5.379      0.000    3.33e+04    7.16e+04\n",
       "company_size_L              1.695e+04   4779.923      3.545      0.000    7554.089    2.63e+04\n",
       "company_size_M             -3820.6204   4602.523     -0.830      0.407   -1.29e+04    5223.648\n",
       "company_size_S             -1.428e+04   5900.061     -2.420      0.016   -2.59e+04   -2682.503\n",
       "==============================================================================\n",
       "Omnibus:                      276.478   Durbin-Watson:                   1.961\n",
       "Prob(Omnibus):                  0.000   Jarque-Bera (JB):             3092.895\n",
       "Skew:                           2.172   Prob(JB):                         0.00\n",
       "Kurtosis:                      14.384   Cond. No.                     1.03e+17\n",
       "==============================================================================\n",
       "\n",
       "Notes:\n",
       "[1] Standard Errors assume that the covariance matrix of the errors is correctly specified.\n",
       "[2] The smallest eigenvalue is 5.15e-25. This might indicate that there are\n",
       "strong multicollinearity problems or that the design matrix is singular.\n",
       "\"\"\""
      ]
     },
     "execution_count": 59,
     "metadata": {},
     "output_type": "execute_result"
    }
   ],
   "source": [
    "# varias variables\n",
    "\n",
    "x=sm.add_constant(X_salaries_data)\n",
    "y=y_salaries_data\n",
    "modelo=sm.OLS(y, x).fit()\n",
    "pred=modelo.predict(x)\n",
    "modelo.summary()"
   ]
  },
  {
   "cell_type": "code",
   "execution_count": 60,
   "id": "18d9de64",
   "metadata": {},
   "outputs": [
    {
     "data": {
      "text/html": [
       "<table class=\"simpletable\">\n",
       "<tr>\n",
       "        <td>Model:</td>               <td>OLS</td>         <td>Adj. R-squared:</td>      <td>0.477</td>  \n",
       "</tr>\n",
       "<tr>\n",
       "  <td>Dependent Variable:</td>   <td>salary_in_usd</td>         <td>AIC:</td>         <td>12278.5936</td>\n",
       "</tr>\n",
       "<tr>\n",
       "         <td>Date:</td>        <td>2022-09-26 17:24</td>        <td>BIC:</td>         <td>12421.8903</td>\n",
       "</tr>\n",
       "<tr>\n",
       "   <td>No. Observations:</td>         <td>500</td>         <td>Log-Likelihood:</td>     <td>-6105.3</td> \n",
       "</tr>\n",
       "<tr>\n",
       "       <td>Df Model:</td>             <td>33</td>           <td>F-statistic:</td>        <td>14.78</td>  \n",
       "</tr>\n",
       "<tr>\n",
       "     <td>Df Residuals:</td>           <td>466</td>       <td>Prob (F-statistic):</td>  <td>1.82e-53</td> \n",
       "</tr>\n",
       "<tr>\n",
       "      <td>R-squared:</td>            <td>0.511</td>            <td>Scale:</td>        <td>2.5357e+09</td>\n",
       "</tr>\n",
       "</table>\n",
       "<table class=\"simpletable\">\n",
       "<tr>\n",
       "               <td></td>                 <th>Coef.</th>     <th>Std.Err.</th>     <th>t</th>     <th>P>|t|</th>    <th>[0.025</th>      <th>0.975]</th>   \n",
       "</tr>\n",
       "<tr>\n",
       "  <th>const</th>                      <td>-1150.1812</td>   <td>7834.0245</td> <td>-0.1468</td> <td>0.8833</td>  <td>-16544.5699</td> <td>14244.2075</td> \n",
       "</tr>\n",
       "<tr>\n",
       "  <th>experience_level</th>           <td>27693.7977</td>   <td>3444.6590</td> <td>8.0396</td>  <td>0.0000</td>  <td>20924.8094</td>  <td>34462.7859</td> \n",
       "</tr>\n",
       "<tr>\n",
       "  <th>salario_medio_pais</th>           <td>13.9770</td>     <td>6.3017</td>   <td>2.2180</td>  <td>0.0270</td>    <td>1.5937</td>      <td>26.3602</td>  \n",
       "</tr>\n",
       "<tr>\n",
       "  <th>work_year_2020</th>              <td>9186.0218</td>   <td>5758.3701</td> <td>1.5952</td>  <td>0.1113</td>  <td>-2129.5653</td>  <td>20501.6090</td> \n",
       "</tr>\n",
       "<tr>\n",
       "  <th>work_year_2021</th>             <td>-7894.4516</td>   <td>4478.0845</td> <td>-1.7629</td> <td>0.0786</td>  <td>-16694.1908</td>  <td>905.2877</td>  \n",
       "</tr>\n",
       "<tr>\n",
       "  <th>work_year_2022</th>             <td>-2441.7514</td>   <td>5441.5819</td> <td>-0.4487</td> <td>0.6538</td>  <td>-13134.8283</td>  <td>8251.3254</td> \n",
       "</tr>\n",
       "<tr>\n",
       "  <th>employment_type_CT</th>         <td>79820.1795</td>  <td>21219.0569</td> <td>3.7617</td>  <td>0.0002</td>  <td>38123.2958</td>  <td>121517.0632</td>\n",
       "</tr>\n",
       "<tr>\n",
       "  <th>employment_type_FL</th>         <td>-67079.9869</td> <td>21555.5246</td> <td>-3.1120</td> <td>0.0020</td> <td>-109438.0525</td> <td>-24721.9213</td>\n",
       "</tr>\n",
       "<tr>\n",
       "  <th>employment_type_FT</th>          <td>2030.9681</td>   <td>9859.9132</td> <td>0.2060</td>  <td>0.8369</td>  <td>-17344.4290</td> <td>21406.3652</td> \n",
       "</tr>\n",
       "<tr>\n",
       "  <th>employment_type_PT</th>         <td>-15921.3418</td> <td>17098.4146</td> <td>-0.9312</td> <td>0.3523</td>  <td>-49520.8843</td> <td>17678.2007</td> \n",
       "</tr>\n",
       "<tr>\n",
       "  <th>job_title_Data Analyst</th>     <td>-26118.8492</td>  <td>7410.9359</td> <td>-3.5244</td> <td>0.0005</td>  <td>-40681.8402</td> <td>-11555.8583</td>\n",
       "</tr>\n",
       "<tr>\n",
       "  <th>job_title_Data Architect</th>   <td>31674.5451</td>  <td>15344.1255</td> <td>2.0643</td>  <td>0.0395</td>   <td>1522.2994</td>  <td>61826.7907</td> \n",
       "</tr>\n",
       "<tr>\n",
       "  <th>job_title_Data Engineer</th>    <td>-4074.8745</td>   <td>6964.8810</td> <td>-0.5851</td> <td>0.5588</td>  <td>-17761.3372</td>  <td>9611.5882</td> \n",
       "</tr>\n",
       "<tr>\n",
       "  <th>job_title_Data Scientist</th>    <td>6738.7186</td>   <td>6854.8182</td> <td>0.9831</td>  <td>0.3261</td>  <td>-6731.4633</td>  <td>20208.9005</td> \n",
       "</tr>\n",
       "<tr>\n",
       "  <th>job_title_Machine Learning</th> <td>-19814.7020</td> <td>22922.5913</td> <td>-0.8644</td> <td>0.3878</td>  <td>-64859.1461</td> <td>25229.7422</td> \n",
       "</tr>\n",
       "<tr>\n",
       "  <th>job_title_Other</th>            <td>10444.9809</td>  <td>16588.8365</td> <td>0.6296</td>  <td>0.5292</td>  <td>-22153.2063</td> <td>43043.1680</td> \n",
       "</tr>\n",
       "<tr>\n",
       "  <th>remote_ratio_CERO</th>          <td>-2828.7274</td>   <td>4959.2806</td> <td>-0.5704</td> <td>0.5687</td>  <td>-12574.0496</td>  <td>6916.5948</td> \n",
       "</tr>\n",
       "<tr>\n",
       "  <th>remote_ratio_FULL</th>           <td>3631.2240</td>   <td>4474.7680</td> <td>0.8115</td>  <td>0.4175</td>  <td>-5161.9981</td>  <td>12424.4462</td> \n",
       "</tr>\n",
       "<tr>\n",
       "  <th>remote_ratio_HALF</th>          <td>-1952.6778</td>   <td>5617.3547</td> <td>-0.3476</td> <td>0.7283</td>  <td>-12991.1601</td>  <td>9085.8046</td> \n",
       "</tr>\n",
       "<tr>\n",
       "  <th>company_location_AE</th>        <td>-5739.0431</td>  <td>28138.7218</td> <td>-0.2040</td> <td>0.8385</td>  <td>-61033.5368</td> <td>49555.4507</td> \n",
       "</tr>\n",
       "<tr>\n",
       "  <th>company_location_AT</th>        <td>-12327.9118</td> <td>28631.3773</td> <td>-0.4306</td> <td>0.6670</td>  <td>-68590.5070</td> <td>43934.6834</td> \n",
       "</tr>\n",
       "<tr>\n",
       "  <th>company_location_AU</th>        <td>15740.6178</td>  <td>34349.8604</td> <td>0.4582</td>  <td>0.6470</td>  <td>-51759.1839</td> <td>83240.4195</td> \n",
       "</tr>\n",
       "<tr>\n",
       "  <th>company_location_BR</th>        <td>-30607.7527</td> <td>32262.8687</td> <td>-0.9487</td> <td>0.3433</td>  <td>-94006.4745</td> <td>32790.9690</td> \n",
       "</tr>\n",
       "<tr>\n",
       "  <th>company_location_CA</th>        <td>13913.2027</td>  <td>12450.4194</td> <td>1.1175</td>  <td>0.2644</td>  <td>-10552.7145</td> <td>38379.1200</td> \n",
       "</tr>\n",
       "<tr>\n",
       "  <th>company_location_DE</th>         <td>3334.9649</td>  <td>12838.6369</td> <td>0.2598</td>  <td>0.7952</td>  <td>-21893.8261</td> <td>28563.7558</td> \n",
       "</tr>\n",
       "<tr>\n",
       "  <th>company_location_DK</th>        <td>-31751.4001</td> <td>36211.8580</td> <td>-0.8768</td> <td>0.3810</td> <td>-102910.1533</td> <td>39407.3531</td> \n",
       "</tr>\n",
       "<tr>\n",
       "  <th>company_location_ES</th>        <td>-6035.1012</td>  <td>14992.4970</td> <td>-0.4025</td> <td>0.6875</td>  <td>-35496.3731</td> <td>23426.1707</td> \n",
       "</tr>\n",
       "<tr>\n",
       "  <th>company_location_FR</th>        <td>-3154.0548</td>  <td>16062.7337</td> <td>-0.1964</td> <td>0.8444</td>  <td>-34718.4143</td> <td>28410.3046</td> \n",
       "</tr>\n",
       "<tr>\n",
       "  <th>company_location_GB</th>        <td>10210.7486</td>  <td>10093.1034</td> <td>1.0117</td>  <td>0.3122</td>  <td>-9622.8831</td>  <td>30044.3803</td> \n",
       "</tr>\n",
       "<tr>\n",
       "  <th>company_location_GR</th>        <td>11102.3414</td>  <td>17063.3214</td> <td>0.6507</td>  <td>0.5156</td>  <td>-22428.2406</td> <td>44632.9234</td> \n",
       "</tr>\n",
       "<tr>\n",
       "  <th>company_location_IN</th>        <td>-14853.3537</td> <td>13357.0209</td> <td>-1.1120</td> <td>0.2667</td>  <td>-41100.8043</td> <td>11394.0969</td> \n",
       "</tr>\n",
       "<tr>\n",
       "  <th>company_location_JP</th>        <td>39917.1572</td>  <td>25456.0487</td> <td>1.5681</td>  <td>0.1175</td>  <td>-10105.7022</td> <td>89940.0167</td> \n",
       "</tr>\n",
       "<tr>\n",
       "  <th>company_location_NL</th>        <td>-33022.6640</td> <td>25345.0562</td> <td>-1.3029</td> <td>0.1932</td>  <td>-82827.4159</td> <td>16782.0878</td> \n",
       "</tr>\n",
       "<tr>\n",
       "  <th>company_location_OTHER</th>     <td>-11198.1815</td> <td>10258.7802</td> <td>-1.0916</td> <td>0.2756</td>  <td>-31357.3792</td>  <td>8961.0163</td> \n",
       "</tr>\n",
       "<tr>\n",
       "  <th>company_location_PK</th>        <td>13930.7258</td>  <td>27568.8236</td> <td>0.5053</td>  <td>0.6136</td>  <td>-40243.8795</td> <td>68105.3311</td> \n",
       "</tr>\n",
       "<tr>\n",
       "  <th>company_location_PL</th>        <td>-3144.6417</td>  <td>28034.5782</td> <td>-0.1122</td> <td>0.9107</td>  <td>-58234.4864</td> <td>51945.2029</td> \n",
       "</tr>\n",
       "<tr>\n",
       "  <th>company_location_PT</th>        <td>-9911.0669</td>  <td>24284.3305</td> <td>-0.4081</td> <td>0.6834</td>  <td>-57631.4208</td> <td>37809.2870</td> \n",
       "</tr>\n",
       "<tr>\n",
       "  <th>company_location_US</th>        <td>52445.2320</td>   <td>9749.7178</td> <td>5.3792</td>  <td>0.0000</td>  <td>33286.3762</td>  <td>71604.0878</td> \n",
       "</tr>\n",
       "<tr>\n",
       "  <th>company_size_L</th>             <td>16946.9626</td>   <td>4779.9234</td> <td>3.5454</td>  <td>0.0004</td>   <td>7554.0894</td>  <td>26339.8357</td> \n",
       "</tr>\n",
       "<tr>\n",
       "  <th>company_size_M</th>             <td>-3820.6204</td>   <td>4602.5227</td> <td>-0.8301</td> <td>0.4069</td>  <td>-12864.8892</td>  <td>5223.6484</td> \n",
       "</tr>\n",
       "<tr>\n",
       "  <th>company_size_S</th>             <td>-14276.5234</td>  <td>5900.0614</td> <td>-2.4197</td> <td>0.0159</td>  <td>-25870.5436</td> <td>-2682.5031</td> \n",
       "</tr>\n",
       "</table>\n",
       "<table class=\"simpletable\">\n",
       "<tr>\n",
       "     <td>Omnibus:</td>    <td>276.478</td>  <td>Durbin-Watson:</td>          <td>1.961</td>      \n",
       "</tr>\n",
       "<tr>\n",
       "  <td>Prob(Omnibus):</td>  <td>0.000</td>  <td>Jarque-Bera (JB):</td>      <td>3092.895</td>     \n",
       "</tr>\n",
       "<tr>\n",
       "       <td>Skew:</td>      <td>2.172</td>      <td>Prob(JB):</td>            <td>0.000</td>      \n",
       "</tr>\n",
       "<tr>\n",
       "     <td>Kurtosis:</td>   <td>14.384</td>   <td>Condition No.:</td>   <td>102576762128915872</td>\n",
       "</tr>\n",
       "</table>"
      ],
      "text/plain": [
       "<class 'statsmodels.iolib.summary2.Summary'>\n",
       "\"\"\"\n",
       "                             Results: Ordinary least squares\n",
       "=========================================================================================\n",
       "Model:                      OLS                     Adj. R-squared:            0.477     \n",
       "Dependent Variable:         salary_in_usd           AIC:                       12278.5936\n",
       "Date:                       2022-09-26 17:24        BIC:                       12421.8903\n",
       "No. Observations:           500                     Log-Likelihood:            -6105.3   \n",
       "Df Model:                   33                      F-statistic:               14.78     \n",
       "Df Residuals:               466                     Prob (F-statistic):        1.82e-53  \n",
       "R-squared:                  0.511                   Scale:                     2.5357e+09\n",
       "-----------------------------------------------------------------------------------------\n",
       "                              Coef.     Std.Err.     t    P>|t|     [0.025       0.975]  \n",
       "-----------------------------------------------------------------------------------------\n",
       "const                       -1150.1812  7834.0245 -0.1468 0.8833  -16544.5699  14244.2075\n",
       "experience_level            27693.7977  3444.6590  8.0396 0.0000   20924.8094  34462.7859\n",
       "salario_medio_pais             13.9770     6.3017  2.2180 0.0270       1.5937     26.3602\n",
       "work_year_2020               9186.0218  5758.3701  1.5952 0.1113   -2129.5653  20501.6090\n",
       "work_year_2021              -7894.4516  4478.0845 -1.7629 0.0786  -16694.1908    905.2877\n",
       "work_year_2022              -2441.7514  5441.5819 -0.4487 0.6538  -13134.8283   8251.3254\n",
       "employment_type_CT          79820.1795 21219.0569  3.7617 0.0002   38123.2958 121517.0632\n",
       "employment_type_FL         -67079.9869 21555.5246 -3.1120 0.0020 -109438.0525 -24721.9213\n",
       "employment_type_FT           2030.9681  9859.9132  0.2060 0.8369  -17344.4290  21406.3652\n",
       "employment_type_PT         -15921.3418 17098.4146 -0.9312 0.3523  -49520.8843  17678.2007\n",
       "job_title_Data Analyst     -26118.8492  7410.9359 -3.5244 0.0005  -40681.8402 -11555.8583\n",
       "job_title_Data Architect    31674.5451 15344.1255  2.0643 0.0395    1522.2994  61826.7907\n",
       "job_title_Data Engineer     -4074.8745  6964.8810 -0.5851 0.5588  -17761.3372   9611.5882\n",
       "job_title_Data Scientist     6738.7186  6854.8182  0.9831 0.3261   -6731.4633  20208.9005\n",
       "job_title_Machine Learning -19814.7020 22922.5913 -0.8644 0.3878  -64859.1461  25229.7422\n",
       "job_title_Other             10444.9809 16588.8365  0.6296 0.5292  -22153.2063  43043.1680\n",
       "remote_ratio_CERO           -2828.7274  4959.2806 -0.5704 0.5687  -12574.0496   6916.5948\n",
       "remote_ratio_FULL            3631.2240  4474.7680  0.8115 0.4175   -5161.9981  12424.4462\n",
       "remote_ratio_HALF           -1952.6778  5617.3547 -0.3476 0.7283  -12991.1601   9085.8046\n",
       "company_location_AE         -5739.0431 28138.7218 -0.2040 0.8385  -61033.5368  49555.4507\n",
       "company_location_AT        -12327.9118 28631.3773 -0.4306 0.6670  -68590.5070  43934.6834\n",
       "company_location_AU         15740.6178 34349.8604  0.4582 0.6470  -51759.1839  83240.4195\n",
       "company_location_BR        -30607.7527 32262.8687 -0.9487 0.3433  -94006.4745  32790.9690\n",
       "company_location_CA         13913.2027 12450.4194  1.1175 0.2644  -10552.7145  38379.1200\n",
       "company_location_DE          3334.9649 12838.6369  0.2598 0.7952  -21893.8261  28563.7558\n",
       "company_location_DK        -31751.4001 36211.8580 -0.8768 0.3810 -102910.1533  39407.3531\n",
       "company_location_ES         -6035.1012 14992.4970 -0.4025 0.6875  -35496.3731  23426.1707\n",
       "company_location_FR         -3154.0548 16062.7337 -0.1964 0.8444  -34718.4143  28410.3046\n",
       "company_location_GB         10210.7486 10093.1034  1.0117 0.3122   -9622.8831  30044.3803\n",
       "company_location_GR         11102.3414 17063.3214  0.6507 0.5156  -22428.2406  44632.9234\n",
       "company_location_IN        -14853.3537 13357.0209 -1.1120 0.2667  -41100.8043  11394.0969\n",
       "company_location_JP         39917.1572 25456.0487  1.5681 0.1175  -10105.7022  89940.0167\n",
       "company_location_NL        -33022.6640 25345.0562 -1.3029 0.1932  -82827.4159  16782.0878\n",
       "company_location_OTHER     -11198.1815 10258.7802 -1.0916 0.2756  -31357.3792   8961.0163\n",
       "company_location_PK         13930.7258 27568.8236  0.5053 0.6136  -40243.8795  68105.3311\n",
       "company_location_PL         -3144.6417 28034.5782 -0.1122 0.9107  -58234.4864  51945.2029\n",
       "company_location_PT         -9911.0669 24284.3305 -0.4081 0.6834  -57631.4208  37809.2870\n",
       "company_location_US         52445.2320  9749.7178  5.3792 0.0000   33286.3762  71604.0878\n",
       "company_size_L              16946.9626  4779.9234  3.5454 0.0004    7554.0894  26339.8357\n",
       "company_size_M              -3820.6204  4602.5227 -0.8301 0.4069  -12864.8892   5223.6484\n",
       "company_size_S             -14276.5234  5900.0614 -2.4197 0.0159  -25870.5436  -2682.5031\n",
       "-----------------------------------------------------------------------------------------\n",
       "Omnibus:                 276.478           Durbin-Watson:              1.961             \n",
       "Prob(Omnibus):           0.000             Jarque-Bera (JB):           3092.895          \n",
       "Skew:                    2.172             Prob(JB):                   0.000             \n",
       "Kurtosis:                14.384            Condition No.:              102576762128915872\n",
       "=========================================================================================\n",
       "* The condition number is large (1e+17). This might indicate             strong\n",
       "multicollinearity or other numerical problems.\n",
       "\"\"\""
      ]
     },
     "execution_count": 60,
     "metadata": {},
     "output_type": "execute_result"
    }
   ],
   "source": [
    "modelo.summary2()"
   ]
  },
  {
   "cell_type": "code",
   "execution_count": 61,
   "id": "33c5b72b",
   "metadata": {},
   "outputs": [
    {
     "ename": "NameError",
     "evalue": "name 'errrorrrrrr' is not defined",
     "output_type": "error",
     "traceback": [
      "\u001b[0;31m---------------------------------------------------------------------------\u001b[0m",
      "\u001b[0;31mNameError\u001b[0m                                 Traceback (most recent call last)",
      "Input \u001b[0;32mIn [61]\u001b[0m, in \u001b[0;36m<cell line: 1>\u001b[0;34m()\u001b[0m\n\u001b[0;32m----> 1\u001b[0m \u001b[38;5;28mprint\u001b[39m( \u001b[43merrrorrrrrr\u001b[49m )\n",
      "\u001b[0;31mNameError\u001b[0m: name 'errrorrrrrr' is not defined"
     ]
    }
   ],
   "source": [
    "print( errrorrrrrr )"
   ]
  },
  {
   "cell_type": "code",
   "execution_count": null,
   "id": "1400b12f",
   "metadata": {},
   "outputs": [],
   "source": []
  },
  {
   "cell_type": "markdown",
   "id": "871d32fe",
   "metadata": {},
   "source": [
    "# SALARY IN USD\n",
    "¿Ayudaria quitar outliers del salaries_data?"
   ]
  },
  {
   "cell_type": "code",
   "execution_count": null,
   "id": "2ccd693f",
   "metadata": {},
   "outputs": [],
   "source": [
    "salaries_data.salary_in_usd.value_counts()"
   ]
  },
  {
   "cell_type": "code",
   "execution_count": null,
   "id": "05e93cdc",
   "metadata": {},
   "outputs": [],
   "source": [
    "sns.violinplot(x=y_salaries_data.salary_in_usd);"
   ]
  },
  {
   "cell_type": "code",
   "execution_count": null,
   "id": "b586a2bc",
   "metadata": {},
   "outputs": [],
   "source": [
    "sns.boxplot(x=y_salaries_data.salary_in_usd);"
   ]
  },
  {
   "cell_type": "code",
   "execution_count": null,
   "id": "e016be05",
   "metadata": {},
   "outputs": [],
   "source": [
    "sns.histplot(x=data.salary_in_usd, bins=10)   # bins=nº de barras\n",
    "plt.axvline(data.salary_in_usd.mean(),c='r',linewidth=3.,linestyle='--',label='media de salario')\n",
    "plt.axvline(data.salary_in_usd.median(),c='orange',linewidth=3.,linestyle='--',label='mediana de salario')\n",
    "plt.axvline(data.salary_in_usd.mode()[0],c='black',linewidth=3.,linestyle='--',label='moda de salario')\n",
    "plt.title('Histograma de Salarios en usd')\n",
    "plt.xlabel('Usd')\n",
    "plt.ylabel('Frecuencia')\n",
    "plt.legend()\n",
    "plt.show();"
   ]
  },
  {
   "cell_type": "code",
   "execution_count": null,
   "id": "f1cebf11",
   "metadata": {},
   "outputs": [],
   "source": [
    "# varias variables\n",
    "\n",
    "x=sm.add_constant(data)\n",
    "y=y_salaries_data\n",
    "modelo=sm.OLS(y, x).fit()\n",
    "pred=modelo.predict(x)\n",
    "modelo.summary()"
   ]
  }
 ],
 "metadata": {
  "kernelspec": {
   "display_name": "Python 3 (ipykernel)",
   "language": "python",
   "name": "python3"
  },
  "language_info": {
   "codemirror_mode": {
    "name": "ipython",
    "version": 3
   },
   "file_extension": ".py",
   "mimetype": "text/x-python",
   "name": "python",
   "nbconvert_exporter": "python",
   "pygments_lexer": "ipython3",
   "version": "3.9.12"
  }
 },
 "nbformat": 4,
 "nbformat_minor": 5
}
